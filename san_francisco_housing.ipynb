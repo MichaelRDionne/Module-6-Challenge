{
 "cells": [
  {
   "cell_type": "markdown",
   "metadata": {},
   "source": [
    "# Housing Rental Analysis for San Francisco\n",
    "\n",
    "In this challenge, your job is to use your data visualization skills, including aggregation, interactive visualizations, and geospatial analysis, to find properties in the San Francisco market that are viable investment opportunities.\n",
    "\n",
    "## Instructions\n",
    "\n",
    "Use the `san_francisco_housing.ipynb` notebook to visualize and analyze the real-estate data.\n",
    "\n",
    "Note that this assignment requires you to create a visualization by using hvPlot and GeoViews. Additionally, you need to read the `sfo_neighborhoods_census_data.csv` file from the `Resources` folder into the notebook and create the DataFrame that you’ll use in the analysis.\n",
    "\n",
    "The main task in this Challenge is to visualize and analyze the real-estate data in your Jupyter notebook. Use the `san_francisco_housing.ipynb` notebook to complete the following tasks:\n",
    "\n",
    "* Calculate and plot the housing units per year.\n",
    "\n",
    "* Calculate and plot the average prices per square foot.\n",
    "\n",
    "* Compare the average prices by neighborhood.\n",
    "\n",
    "* Build an interactive neighborhood map.\n",
    "\n",
    "* Compose your data story.\n",
    "\n",
    "### Calculate and Plot the Housing Units per Year\n",
    "\n",
    "For this part of the assignment, use numerical and visual aggregation to calculate the number of housing units per year, and then visualize the results as a bar chart. To do so, complete the following steps:\n",
    "\n",
    "1. Use the `groupby` function to group the data by year. Aggregate the results by the `mean` of the groups.\n",
    "\n",
    "2. Use the `hvplot` function to plot the `housing_units_by_year` DataFrame as a bar chart. Make the x-axis represent the `year` and the y-axis represent the `housing_units`.\n",
    "\n",
    "3. Style and format the line plot to ensure a professionally styled visualization.\n",
    "\n",
    "4. Note that your resulting plot should appear similar to the following image:\n",
    "\n",
    "![A screenshot depicts an example of the resulting bar chart.](Images/zoomed-housing-units-by-year.png)\n",
    "\n",
    "5. Answer the following question:\n",
    "\n",
    "    * What’s the overall trend in housing units over the period that you’re analyzing?\n",
    "\n",
    "### Calculate and Plot the Average Sale Prices per Square Foot\n",
    "\n",
    "For this part of the assignment, use numerical and visual aggregation to calculate the average prices per square foot, and then visualize the results as a bar chart. To do so, complete the following steps:\n",
    "\n",
    "1. Group the data by year, and then average the results. What’s the lowest gross rent that’s reported for the years that the DataFrame includes?\n",
    "\n",
    "2. Create a new DataFrame named `prices_square_foot_by_year` by filtering out the “housing_units” column. The new DataFrame should include the averages per year for only the sale price per square foot and the gross rent.\n",
    "\n",
    "3. Use hvPlot to plot the `prices_square_foot_by_year` DataFrame as a line plot.\n",
    "\n",
    "    > **Hint** This single plot will include lines for both `sale_price_sqr_foot` and `gross_rent`.\n",
    "\n",
    "4. Style and format the line plot to ensure a professionally styled visualization.\n",
    "\n",
    "5. Note that your resulting plot should appear similar to the following image:\n",
    "\n",
    "![A screenshot depicts an example of the resulting plot.](Images/avg-sale-px-sq-foot-gross-rent.png)\n",
    "\n",
    "6. Use both the `prices_square_foot_by_year` DataFrame and interactive plots to answer the following questions:\n",
    "\n",
    "    * Did any year experience a drop in the average sale price per square foot compared to the previous year?\n",
    "\n",
    "    * If so, did the gross rent increase or decrease during that year?\n",
    "\n",
    "### Compare the Average Sale Prices by Neighborhood\n",
    "\n",
    "For this part of the assignment, use interactive visualizations and widgets to explore the average sale price per square foot by neighborhood. To do so, complete the following steps:\n",
    "\n",
    "1. Create a new DataFrame that groups the original DataFrame by year and neighborhood. Aggregate the results by the `mean` of the groups.\n",
    "\n",
    "2. Filter out the “housing_units” column to create a DataFrame that includes only the `sale_price_sqr_foot` and `gross_rent` averages per year.\n",
    "\n",
    "3. Create an interactive line plot with hvPlot that visualizes both `sale_price_sqr_foot` and `gross_rent`. Set the x-axis parameter to the year (`x=\"year\"`). Use the `groupby` parameter to create an interactive widget for `neighborhood`.\n",
    "\n",
    "4. Style and format the line plot to ensure a professionally styled visualization.\n",
    "\n",
    "5. Note that your resulting plot should appear similar to the following image:\n",
    "\n",
    "![A screenshot depicts an example of the resulting plot.](Images/pricing-info-by-neighborhood.png)\n",
    "\n",
    "6. Use the interactive visualization to answer the following question:\n",
    "\n",
    "    * For the Anza Vista neighborhood, is the average sale price per square foot for 2016 more or less than the price that’s listed for 2012? \n",
    "\n",
    "### Build an Interactive Neighborhood Map\n",
    "\n",
    "For this part of the assignment, explore the geospatial relationships in the data by using interactive visualizations with hvPlot and GeoViews. To build your map, use the `sfo_data_df` DataFrame (created during the initial import), which includes the neighborhood location data with the average prices. To do all this, complete the following steps:\n",
    "\n",
    "1. Read the `neighborhood_coordinates.csv` file from the `Resources` folder into the notebook, and create a DataFrame named `neighborhood_locations_df`. Be sure to set the `index_col` of the DataFrame as “Neighborhood”.\n",
    "\n",
    "2. Using the original `sfo_data_df` Dataframe, create a DataFrame named `all_neighborhood_info_df` that groups the data by neighborhood. Aggregate the results by the `mean` of the group.\n",
    "\n",
    "3. Review the two code cells that concatenate the `neighborhood_locations_df` DataFrame with the `all_neighborhood_info_df` DataFrame. Note that the first cell uses the [Pandas concat function](https://pandas.pydata.org/pandas-docs/stable/reference/api/pandas.concat.html) to create a DataFrame named `all_neighborhoods_df`. The second cell cleans the data and sets the “Neighborhood” column. Be sure to run these cells to create the `all_neighborhoods_df` DataFrame, which you’ll need to create the geospatial visualization.\n",
    "\n",
    "4. Using hvPlot with GeoViews enabled, create a `points` plot for the `all_neighborhoods_df` DataFrame. Be sure to do the following:\n",
    "\n",
    "    * Set the `geo` parameter to True.\n",
    "    * Set the `size` parameter to “sale_price_sqr_foot”.\n",
    "    * Set the `color` parameter to “gross_rent”.\n",
    "    * Set the `frame_width` parameter to 700.\n",
    "    * Set the `frame_height` parameter to 500.\n",
    "    * Include a descriptive title.\n",
    "\n",
    "Note that your resulting plot should appear similar to the following image:\n",
    "\n",
    "![A screenshot depicts an example of a scatter plot created with hvPlot and GeoViews.](Images/6-4-geoviews-plot.png)\n",
    "\n",
    "5. Use the interactive map to answer the following question:\n",
    "\n",
    "    * Which neighborhood has the highest gross rent, and which has the highest sale price per square foot?\n",
    "\n",
    "### Compose Your Data Story\n",
    "\n",
    "Based on the visualizations that you created, answer the following questions:\n",
    "\n",
    "* How does the trend in rental income growth compare to the trend in sales prices? Does this same trend hold true for all the neighborhoods across San Francisco?\n",
    "\n",
    "* What insights can you share with your company about the potential one-click, buy-and-rent strategy that they're pursuing? Do neighborhoods exist that you would suggest for investment, and why?"
   ]
  },
  {
   "cell_type": "code",
   "execution_count": 78,
   "metadata": {},
   "outputs": [],
   "source": [
    "# Import the required libraries and dependencies\n",
    "import pandas as pd\n",
    "import os\n",
    "import hvplot.pandas\n",
    "from pathlib import Path\n",
    "\n"
   ]
  },
  {
   "cell_type": "markdown",
   "metadata": {},
   "source": [
    "## Import the data "
   ]
  },
  {
   "cell_type": "code",
   "execution_count": 79,
   "metadata": {},
   "outputs": [
    {
     "data": {
      "text/html": [
       "<div>\n",
       "<style scoped>\n",
       "    .dataframe tbody tr th:only-of-type {\n",
       "        vertical-align: middle;\n",
       "    }\n",
       "\n",
       "    .dataframe tbody tr th {\n",
       "        vertical-align: top;\n",
       "    }\n",
       "\n",
       "    .dataframe thead th {\n",
       "        text-align: right;\n",
       "    }\n",
       "</style>\n",
       "<table border=\"1\" class=\"dataframe\">\n",
       "  <thead>\n",
       "    <tr style=\"text-align: right;\">\n",
       "      <th></th>\n",
       "      <th>year</th>\n",
       "      <th>neighborhood</th>\n",
       "      <th>sale_price_sqr_foot</th>\n",
       "      <th>housing_units</th>\n",
       "      <th>gross_rent</th>\n",
       "    </tr>\n",
       "  </thead>\n",
       "  <tbody>\n",
       "    <tr>\n",
       "      <th>0</th>\n",
       "      <td>2010</td>\n",
       "      <td>Alamo Square</td>\n",
       "      <td>291.182945</td>\n",
       "      <td>372560</td>\n",
       "      <td>1239</td>\n",
       "    </tr>\n",
       "    <tr>\n",
       "      <th>1</th>\n",
       "      <td>2010</td>\n",
       "      <td>Anza Vista</td>\n",
       "      <td>267.932583</td>\n",
       "      <td>372560</td>\n",
       "      <td>1239</td>\n",
       "    </tr>\n",
       "    <tr>\n",
       "      <th>2</th>\n",
       "      <td>2010</td>\n",
       "      <td>Bayview</td>\n",
       "      <td>170.098665</td>\n",
       "      <td>372560</td>\n",
       "      <td>1239</td>\n",
       "    </tr>\n",
       "    <tr>\n",
       "      <th>3</th>\n",
       "      <td>2010</td>\n",
       "      <td>Buena Vista Park</td>\n",
       "      <td>347.394919</td>\n",
       "      <td>372560</td>\n",
       "      <td>1239</td>\n",
       "    </tr>\n",
       "    <tr>\n",
       "      <th>4</th>\n",
       "      <td>2010</td>\n",
       "      <td>Central Richmond</td>\n",
       "      <td>319.027623</td>\n",
       "      <td>372560</td>\n",
       "      <td>1239</td>\n",
       "    </tr>\n",
       "  </tbody>\n",
       "</table>\n",
       "</div>"
      ],
      "text/plain": [
       "   year      neighborhood  sale_price_sqr_foot  housing_units  gross_rent\n",
       "0  2010      Alamo Square           291.182945         372560        1239\n",
       "1  2010        Anza Vista           267.932583         372560        1239\n",
       "2  2010           Bayview           170.098665         372560        1239\n",
       "3  2010  Buena Vista Park           347.394919         372560        1239\n",
       "4  2010  Central Richmond           319.027623         372560        1239"
      ]
     },
     "metadata": {},
     "output_type": "display_data"
    },
    {
     "data": {
      "text/html": [
       "<div>\n",
       "<style scoped>\n",
       "    .dataframe tbody tr th:only-of-type {\n",
       "        vertical-align: middle;\n",
       "    }\n",
       "\n",
       "    .dataframe tbody tr th {\n",
       "        vertical-align: top;\n",
       "    }\n",
       "\n",
       "    .dataframe thead th {\n",
       "        text-align: right;\n",
       "    }\n",
       "</style>\n",
       "<table border=\"1\" class=\"dataframe\">\n",
       "  <thead>\n",
       "    <tr style=\"text-align: right;\">\n",
       "      <th></th>\n",
       "      <th>year</th>\n",
       "      <th>neighborhood</th>\n",
       "      <th>sale_price_sqr_foot</th>\n",
       "      <th>housing_units</th>\n",
       "      <th>gross_rent</th>\n",
       "    </tr>\n",
       "  </thead>\n",
       "  <tbody>\n",
       "    <tr>\n",
       "      <th>392</th>\n",
       "      <td>2016</td>\n",
       "      <td>Telegraph Hill</td>\n",
       "      <td>903.049771</td>\n",
       "      <td>384242</td>\n",
       "      <td>4390</td>\n",
       "    </tr>\n",
       "    <tr>\n",
       "      <th>393</th>\n",
       "      <td>2016</td>\n",
       "      <td>Twin Peaks</td>\n",
       "      <td>970.085470</td>\n",
       "      <td>384242</td>\n",
       "      <td>4390</td>\n",
       "    </tr>\n",
       "    <tr>\n",
       "      <th>394</th>\n",
       "      <td>2016</td>\n",
       "      <td>Van Ness/ Civic Center</td>\n",
       "      <td>552.602567</td>\n",
       "      <td>384242</td>\n",
       "      <td>4390</td>\n",
       "    </tr>\n",
       "    <tr>\n",
       "      <th>395</th>\n",
       "      <td>2016</td>\n",
       "      <td>Visitacion Valley</td>\n",
       "      <td>328.319007</td>\n",
       "      <td>384242</td>\n",
       "      <td>4390</td>\n",
       "    </tr>\n",
       "    <tr>\n",
       "      <th>396</th>\n",
       "      <td>2016</td>\n",
       "      <td>Westwood Park</td>\n",
       "      <td>631.195426</td>\n",
       "      <td>384242</td>\n",
       "      <td>4390</td>\n",
       "    </tr>\n",
       "  </tbody>\n",
       "</table>\n",
       "</div>"
      ],
      "text/plain": [
       "     year            neighborhood  sale_price_sqr_foot  housing_units  \\\n",
       "392  2016          Telegraph Hill           903.049771         384242   \n",
       "393  2016              Twin Peaks           970.085470         384242   \n",
       "394  2016  Van Ness/ Civic Center           552.602567         384242   \n",
       "395  2016       Visitacion Valley           328.319007         384242   \n",
       "396  2016           Westwood Park           631.195426         384242   \n",
       "\n",
       "     gross_rent  \n",
       "392        4390  \n",
       "393        4390  \n",
       "394        4390  \n",
       "395        4390  \n",
       "396        4390  "
      ]
     },
     "metadata": {},
     "output_type": "display_data"
    }
   ],
   "source": [
    "# Using the read_csv function and Path module, create a DataFrame \n",
    "# by importing the sfo_neighborhoods_census_data.csv file from the Resources folder\n",
    "sfo_data_df = pd.read_csv(\n",
    "    Path(\"/Users/michaeldionne/Documents/GitHub/Fintech-Workspace/Module 6/Module-6-Challenge/Resources/sfo_neighborhoods_census_data.csv\"),\n",
    ")\n",
    "\n",
    "# Review the first and last five rows of the DataFrame\n",
    "display(sfo_data_df.head())\n",
    "display(sfo_data_df.tail())\n"
   ]
  },
  {
   "cell_type": "markdown",
   "metadata": {},
   "source": [
    "---"
   ]
  },
  {
   "cell_type": "markdown",
   "metadata": {},
   "source": [
    "## Calculate and Plot the Housing Units per Year\n",
    "\n",
    "For this part of the assignment, use numerical and visual aggregation to calculate the number of housing units per year, and then visualize the results as a bar chart. To do so, complete the following steps:\n",
    "\n",
    "1. Use the `groupby` function to group the data by year. Aggregate the results by the `mean` of the groups.\n",
    "\n",
    "2. Use the `hvplot` function to plot the `housing_units_by_year` DataFrame as a bar chart. Make the x-axis represent the `year` and the y-axis represent the `housing_units`.\n",
    "\n",
    "3. Style and format the line plot to ensure a professionally styled visualization.\n",
    "\n",
    "4. Note that your resulting plot should appear similar to the following image:\n",
    "\n",
    "![A screenshot depicts an example of the resulting bar chart.](Images/zoomed-housing-units-by-year.png)\n",
    "\n",
    "5. Answer the following question:\n",
    "\n",
    "    * What’s the overall trend in housing units over the period that you’re analyzing?\n",
    "\n"
   ]
  },
  {
   "cell_type": "markdown",
   "metadata": {},
   "source": [
    "### Step 1: Use the `groupby` function to group the data by year. Aggregate the results by the `mean` of the groups."
   ]
  },
  {
   "cell_type": "code",
   "execution_count": 80,
   "metadata": {},
   "outputs": [
    {
     "data": {
      "text/html": [
       "<div>\n",
       "<style scoped>\n",
       "    .dataframe tbody tr th:only-of-type {\n",
       "        vertical-align: middle;\n",
       "    }\n",
       "\n",
       "    .dataframe tbody tr th {\n",
       "        vertical-align: top;\n",
       "    }\n",
       "\n",
       "    .dataframe thead th {\n",
       "        text-align: right;\n",
       "    }\n",
       "</style>\n",
       "<table border=\"1\" class=\"dataframe\">\n",
       "  <thead>\n",
       "    <tr style=\"text-align: right;\">\n",
       "      <th></th>\n",
       "      <th>sale_price_sqr_foot</th>\n",
       "      <th>housing_units</th>\n",
       "      <th>gross_rent</th>\n",
       "    </tr>\n",
       "    <tr>\n",
       "      <th>year</th>\n",
       "      <th></th>\n",
       "      <th></th>\n",
       "      <th></th>\n",
       "    </tr>\n",
       "  </thead>\n",
       "  <tbody>\n",
       "    <tr>\n",
       "      <th>2010</th>\n",
       "      <td>369.344353</td>\n",
       "      <td>372560.0</td>\n",
       "      <td>1239.0</td>\n",
       "    </tr>\n",
       "    <tr>\n",
       "      <th>2011</th>\n",
       "      <td>341.903429</td>\n",
       "      <td>374507.0</td>\n",
       "      <td>1530.0</td>\n",
       "    </tr>\n",
       "    <tr>\n",
       "      <th>2012</th>\n",
       "      <td>399.389968</td>\n",
       "      <td>376454.0</td>\n",
       "      <td>2324.0</td>\n",
       "    </tr>\n",
       "    <tr>\n",
       "      <th>2013</th>\n",
       "      <td>483.600304</td>\n",
       "      <td>378401.0</td>\n",
       "      <td>2971.0</td>\n",
       "    </tr>\n",
       "    <tr>\n",
       "      <th>2014</th>\n",
       "      <td>556.277273</td>\n",
       "      <td>380348.0</td>\n",
       "      <td>3528.0</td>\n",
       "    </tr>\n",
       "    <tr>\n",
       "      <th>2015</th>\n",
       "      <td>632.540352</td>\n",
       "      <td>382295.0</td>\n",
       "      <td>3739.0</td>\n",
       "    </tr>\n",
       "    <tr>\n",
       "      <th>2016</th>\n",
       "      <td>697.643709</td>\n",
       "      <td>384242.0</td>\n",
       "      <td>4390.0</td>\n",
       "    </tr>\n",
       "  </tbody>\n",
       "</table>\n",
       "</div>"
      ],
      "text/plain": [
       "      sale_price_sqr_foot  housing_units  gross_rent\n",
       "year                                                \n",
       "2010           369.344353       372560.0      1239.0\n",
       "2011           341.903429       374507.0      1530.0\n",
       "2012           399.389968       376454.0      2324.0\n",
       "2013           483.600304       378401.0      2971.0\n",
       "2014           556.277273       380348.0      3528.0\n",
       "2015           632.540352       382295.0      3739.0\n",
       "2016           697.643709       384242.0      4390.0"
      ]
     },
     "execution_count": 80,
     "metadata": {},
     "output_type": "execute_result"
    }
   ],
   "source": [
    "# Create a numerical aggregation that groups the data by the year and then averages the results.\n",
    "housing_units_by_year = sfo_data_df.groupby('year').mean()\n",
    "\n",
    "# Review the DataFrame\n",
    "housing_units_by_year\n"
   ]
  },
  {
   "cell_type": "markdown",
   "metadata": {},
   "source": [
    "### Step 2: Use the `hvplot` function to plot the `housing_units_by_year` DataFrame as a bar chart. Make the x-axis represent the `year` and the y-axis represent the `housing_units`.\n",
    "\n",
    "### Step 3: Style and format the line plot to ensure a professionally styled visualization."
   ]
  },
  {
   "cell_type": "code",
   "execution_count": 81,
   "metadata": {},
   "outputs": [
    {
     "data": {},
     "metadata": {},
     "output_type": "display_data"
    },
    {
     "data": {
      "application/vnd.holoviews_exec.v0+json": "",
      "text/html": [
       "<div id='5191'>\n",
       "\n",
       "\n",
       "\n",
       "\n",
       "\n",
       "  <div class=\"bk-root\" id=\"241ece68-ee4b-4549-9d41-5789bb0145d2\" data-root-id=\"5191\"></div>\n",
       "</div>\n",
       "<script type=\"application/javascript\">(function(root) {\n",
       "  function embed_document(root) {\n",
       "    var docs_json = {\"232f5002-7ab5-416f-94eb-299f3afd2290\":{\"defs\":[{\"extends\":null,\"module\":null,\"name\":\"ReactiveHTML1\",\"overrides\":[],\"properties\":[]},{\"extends\":null,\"module\":null,\"name\":\"FlexBox1\",\"overrides\":[],\"properties\":[{\"default\":\"flex-start\",\"kind\":null,\"name\":\"align_content\"},{\"default\":\"flex-start\",\"kind\":null,\"name\":\"align_items\"},{\"default\":\"row\",\"kind\":null,\"name\":\"flex_direction\"},{\"default\":\"wrap\",\"kind\":null,\"name\":\"flex_wrap\"},{\"default\":\"flex-start\",\"kind\":null,\"name\":\"justify_content\"}]},{\"extends\":null,\"module\":null,\"name\":\"GridStack1\",\"overrides\":[],\"properties\":[{\"default\":\"warn\",\"kind\":null,\"name\":\"mode\"},{\"default\":null,\"kind\":null,\"name\":\"ncols\"},{\"default\":null,\"kind\":null,\"name\":\"nrows\"},{\"default\":true,\"kind\":null,\"name\":\"allow_resize\"},{\"default\":true,\"kind\":null,\"name\":\"allow_drag\"},{\"default\":[],\"kind\":null,\"name\":\"state\"}]},{\"extends\":null,\"module\":null,\"name\":\"click1\",\"overrides\":[],\"properties\":[{\"default\":\"\",\"kind\":null,\"name\":\"terminal_output\"},{\"default\":\"\",\"kind\":null,\"name\":\"debug_name\"},{\"default\":0,\"kind\":null,\"name\":\"clears\"}]},{\"extends\":null,\"module\":null,\"name\":\"TemplateActions1\",\"overrides\":[],\"properties\":[{\"default\":0,\"kind\":null,\"name\":\"open_modal\"},{\"default\":0,\"kind\":null,\"name\":\"close_modal\"}]},{\"extends\":null,\"module\":null,\"name\":\"MaterialTemplateActions1\",\"overrides\":[],\"properties\":[{\"default\":0,\"kind\":null,\"name\":\"open_modal\"},{\"default\":0,\"kind\":null,\"name\":\"close_modal\"}]}],\"roots\":{\"references\":[{\"attributes\":{},\"id\":\"5214\",\"type\":\"WheelZoomTool\"},{\"attributes\":{\"coordinates\":null,\"data_source\":{\"id\":\"5225\"},\"glyph\":{\"id\":\"5228\"},\"group\":null,\"hover_glyph\":null,\"muted_glyph\":{\"id\":\"5230\"},\"nonselection_glyph\":{\"id\":\"5229\"},\"selection_glyph\":{\"id\":\"5233\"},\"view\":{\"id\":\"5232\"}},\"id\":\"5231\",\"type\":\"GlyphRenderer\"},{\"attributes\":{},\"id\":\"5212\",\"type\":\"SaveTool\"},{\"attributes\":{\"source\":{\"id\":\"5225\"}},\"id\":\"5232\",\"type\":\"CDSView\"},{\"attributes\":{\"overlay\":{\"id\":\"5217\"}},\"id\":\"5215\",\"type\":\"BoxZoomTool\"},{\"attributes\":{},\"id\":\"5216\",\"type\":\"ResetTool\"},{\"attributes\":{\"bottom\":{\"value\":0},\"fill_alpha\":{\"value\":1.0},\"fill_color\":{\"value\":\"#30a2da\"},\"hatch_alpha\":{\"value\":1.0},\"hatch_color\":{\"value\":\"#30a2da\"},\"hatch_scale\":{\"value\":12.0},\"hatch_weight\":{\"value\":1.0},\"line_alpha\":{\"value\":1.0},\"line_cap\":{\"value\":\"butt\"},\"line_color\":{\"value\":\"black\"},\"line_dash\":{\"value\":[]},\"line_dash_offset\":{\"value\":0},\"line_join\":{\"value\":\"bevel\"},\"line_width\":{\"value\":1},\"top\":{\"field\":\"housing_units\"},\"width\":{\"value\":0.8},\"x\":{\"field\":\"year\"}},\"id\":\"5233\",\"type\":\"VBar\"},{\"attributes\":{\"bottom_units\":\"screen\",\"coordinates\":null,\"fill_alpha\":0.5,\"fill_color\":\"lightgrey\",\"group\":null,\"left_units\":\"screen\",\"level\":\"overlay\",\"line_alpha\":1.0,\"line_color\":\"black\",\"line_dash\":[4,4],\"line_width\":2,\"right_units\":\"screen\",\"syncable\":false,\"top_units\":\"screen\"},\"id\":\"5217\",\"type\":\"BoxAnnotation\"},{\"attributes\":{\"margin\":[5,5,5,5],\"name\":\"HSpacer10564\",\"sizing_mode\":\"stretch_width\"},\"id\":\"5192\",\"type\":\"Spacer\"},{\"attributes\":{\"fill_alpha\":{\"value\":0.2},\"fill_color\":{\"value\":\"#30a2da\"},\"hatch_alpha\":{\"value\":0.2},\"hatch_color\":{\"value\":\"#30a2da\"},\"line_alpha\":{\"value\":0.2},\"top\":{\"field\":\"housing_units\"},\"width\":{\"value\":0.8},\"x\":{\"field\":\"year\"}},\"id\":\"5230\",\"type\":\"VBar\"},{\"attributes\":{\"fill_color\":{\"value\":\"#30a2da\"},\"hatch_color\":{\"value\":\"#30a2da\"},\"top\":{\"field\":\"housing_units\"},\"width\":{\"value\":0.8},\"x\":{\"field\":\"year\"}},\"id\":\"5228\",\"type\":\"VBar\"},{\"attributes\":{},\"id\":\"5240\",\"type\":\"AllLabels\"},{\"attributes\":{},\"id\":\"5237\",\"type\":\"AllLabels\"},{\"attributes\":{},\"id\":\"5226\",\"type\":\"Selection\"},{\"attributes\":{\"format\":\"%.0f\"},\"id\":\"5234\",\"type\":\"PrintfTickFormatter\"},{\"attributes\":{\"children\":[{\"id\":\"5192\"},{\"id\":\"5196\"},{\"id\":\"5261\"}],\"margin\":[0,0,0,0],\"name\":\"Row10560\",\"tags\":[\"embedded\"]},\"id\":\"5191\",\"type\":\"Row\"},{\"attributes\":{},\"id\":\"5236\",\"type\":\"CategoricalTickFormatter\"},{\"attributes\":{\"end\":385410.2,\"reset_end\":385410.2,\"reset_start\":0.0,\"tags\":[[[\"housing_units\",\"housing_units\",null]]]},\"id\":\"5194\",\"type\":\"Range1d\"},{\"attributes\":{\"factors\":[\"2010\",\"2011\",\"2012\",\"2013\",\"2014\",\"2015\",\"2016\"],\"tags\":[[[\"year\",\"year\",null]]]},\"id\":\"5193\",\"type\":\"FactorRange\"},{\"attributes\":{\"tools\":[{\"id\":\"5195\"},{\"id\":\"5212\"},{\"id\":\"5213\"},{\"id\":\"5214\"},{\"id\":\"5215\"},{\"id\":\"5216\"}]},\"id\":\"5218\",\"type\":\"Toolbar\"},{\"attributes\":{},\"id\":\"5201\",\"type\":\"CategoricalScale\"},{\"attributes\":{},\"id\":\"5203\",\"type\":\"LinearScale\"},{\"attributes\":{\"callback\":null,\"renderers\":[{\"id\":\"5231\"}],\"tags\":[\"hv_created\"],\"tooltips\":[[\"year\",\"@{year}\"],[\"housing_units\",\"@{housing_units}\"]]},\"id\":\"5195\",\"type\":\"HoverTool\"},{\"attributes\":{},\"id\":\"5249\",\"type\":\"UnionRenderers\"},{\"attributes\":{\"data\":{\"housing_units\":{\"__ndarray__\":\"AAAAAEC9FkEAAAAArNsWQQAAAAAY+hZBAAAAAIQYF0EAAAAA8DYXQQAAAABcVRdBAAAAAMhzF0E=\",\"dtype\":\"float64\",\"order\":\"little\",\"shape\":[7]},\"year\":[\"2010\",\"2011\",\"2012\",\"2013\",\"2014\",\"2015\",\"2016\"]},\"selected\":{\"id\":\"5226\"},\"selection_policy\":{\"id\":\"5249\"}},\"id\":\"5225\",\"type\":\"ColumnDataSource\"},{\"attributes\":{\"coordinates\":null,\"group\":null,\"text\":\"Housing Units in San Francisco from 2010 to 2016\",\"text_color\":\"black\",\"text_font_size\":\"12pt\"},\"id\":\"5197\",\"type\":\"Title\"},{\"attributes\":{\"below\":[{\"id\":\"5205\"}],\"center\":[{\"id\":\"5207\"},{\"id\":\"5211\"}],\"height\":300,\"left\":[{\"id\":\"5208\"}],\"margin\":[5,5,5,5],\"min_border_bottom\":10,\"min_border_left\":10,\"min_border_right\":10,\"min_border_top\":10,\"renderers\":[{\"id\":\"5231\"}],\"sizing_mode\":\"fixed\",\"title\":{\"id\":\"5197\"},\"toolbar\":{\"id\":\"5218\"},\"width\":700,\"x_range\":{\"id\":\"5193\"},\"x_scale\":{\"id\":\"5201\"},\"y_range\":{\"id\":\"5194\"},\"y_scale\":{\"id\":\"5203\"}},\"id\":\"5196\",\"subtype\":\"Figure\",\"type\":\"Plot\"},{\"attributes\":{},\"id\":\"5206\",\"type\":\"CategoricalTicker\"},{\"attributes\":{\"axis\":{\"id\":\"5205\"},\"coordinates\":null,\"grid_line_color\":null,\"group\":null,\"ticker\":null},\"id\":\"5207\",\"type\":\"Grid\"},{\"attributes\":{\"fill_alpha\":{\"value\":0.1},\"fill_color\":{\"value\":\"#30a2da\"},\"hatch_alpha\":{\"value\":0.1},\"hatch_color\":{\"value\":\"#30a2da\"},\"line_alpha\":{\"value\":0.1},\"top\":{\"field\":\"housing_units\"},\"width\":{\"value\":0.8},\"x\":{\"field\":\"year\"}},\"id\":\"5229\",\"type\":\"VBar\"},{\"attributes\":{},\"id\":\"5213\",\"type\":\"PanTool\"},{\"attributes\":{\"axis_label\":\"Year\",\"coordinates\":null,\"formatter\":{\"id\":\"5236\"},\"group\":null,\"major_label_policy\":{\"id\":\"5237\"},\"ticker\":{\"id\":\"5206\"}},\"id\":\"5205\",\"type\":\"CategoricalAxis\"},{\"attributes\":{\"axis\":{\"id\":\"5208\"},\"coordinates\":null,\"dimension\":1,\"grid_line_color\":null,\"group\":null,\"ticker\":null},\"id\":\"5211\",\"type\":\"Grid\"},{\"attributes\":{\"axis_label\":\"Housing Units\",\"coordinates\":null,\"formatter\":{\"id\":\"5234\"},\"group\":null,\"major_label_policy\":{\"id\":\"5240\"},\"ticker\":{\"id\":\"5209\"}},\"id\":\"5208\",\"type\":\"LinearAxis\"},{\"attributes\":{\"margin\":[5,5,5,5],\"name\":\"HSpacer10565\",\"sizing_mode\":\"stretch_width\"},\"id\":\"5261\",\"type\":\"Spacer\"},{\"attributes\":{},\"id\":\"5209\",\"type\":\"BasicTicker\"}],\"root_ids\":[\"5191\"]},\"title\":\"Bokeh Application\",\"version\":\"2.4.2\"}};\n",
       "    var render_items = [{\"docid\":\"232f5002-7ab5-416f-94eb-299f3afd2290\",\"root_ids\":[\"5191\"],\"roots\":{\"5191\":\"241ece68-ee4b-4549-9d41-5789bb0145d2\"}}];\n",
       "    root.Bokeh.embed.embed_items_notebook(docs_json, render_items);\n",
       "  }\n",
       "  if (root.Bokeh !== undefined && root.Bokeh.Panel !== undefined) {\n",
       "    embed_document(root);\n",
       "  } else {\n",
       "    var attempts = 0;\n",
       "    var timer = setInterval(function(root) {\n",
       "      if (root.Bokeh !== undefined && root.Bokeh.Panel !== undefined) {\n",
       "        clearInterval(timer);\n",
       "        embed_document(root);\n",
       "      } else if (document.readyState == \"complete\") {\n",
       "        attempts++;\n",
       "        if (attempts > 200) {\n",
       "          clearInterval(timer);\n",
       "          console.log(\"Bokeh: ERROR: Unable to run BokehJS code because BokehJS library is missing\");\n",
       "        }\n",
       "      }\n",
       "    }, 25, root)\n",
       "  }\n",
       "})(window);</script>"
      ],
      "text/plain": [
       ":Bars   [year]   (housing_units)"
      ]
     },
     "execution_count": 81,
     "metadata": {
      "application/vnd.holoviews_exec.v0+json": {
       "id": "5191"
      }
     },
     "output_type": "execute_result"
    }
   ],
   "source": [
    "# Create a visual aggregation explore the housing units by year\n",
    "housing_units_by_year.hvplot.bar(\n",
    "    x='year',\n",
    "    y='housing_units',\n",
    "    xlabel='Year', \n",
    "    ylabel=\"Housing Units\",\n",
    "    title='Housing Units in San Francisco from 2010 to 2016',\n",
    ").opts(yformatter='%.0f')\n"
   ]
  },
  {
   "cell_type": "markdown",
   "metadata": {},
   "source": [
    "### Step 5: Answer the following question:"
   ]
  },
  {
   "cell_type": "markdown",
   "metadata": {},
   "source": [
    "**Question:** What is the overall trend in housing_units over the period being analyzed?\n",
    "\n",
    "**Answer:**  The overall trend is that the number of housing units sold each year is increasing from one year to the next. "
   ]
  },
  {
   "cell_type": "markdown",
   "metadata": {},
   "source": [
    "---"
   ]
  },
  {
   "cell_type": "markdown",
   "metadata": {},
   "source": [
    "## Calculate and Plot the Average Sale Prices per Square Foot\n",
    "\n",
    "For this part of the assignment, use numerical and visual aggregation to calculate the average prices per square foot, and then visualize the results as a bar chart. To do so, complete the following steps:\n",
    "\n",
    "1. Group the data by year, and then average the results. What’s the lowest gross rent that’s reported for the years that the DataFrame includes?\n",
    "\n",
    "2. Create a new DataFrame named `prices_square_foot_by_year` by filtering out the “housing_units” column. The new DataFrame should include the averages per year for only the sale price per square foot and the gross rent.\n",
    "\n",
    "3. Use hvPlot to plot the `prices_square_foot_by_year` DataFrame as a line plot.\n",
    "\n",
    "    > **Hint** This single plot will include lines for both `sale_price_sqr_foot` and `gross_rent`.\n",
    "\n",
    "4. Style and format the line plot to ensure a professionally styled visualization.\n",
    "\n",
    "5. Note that your resulting plot should appear similar to the following image:\n",
    "\n",
    "![A screenshot depicts an example of the resulting plot.](Images/avg-sale-px-sq-foot-gross-rent.png)\n",
    "\n",
    "6. Use both the `prices_square_foot_by_year` DataFrame and interactive plots to answer the following questions:\n",
    "\n",
    "    * Did any year experience a drop in the average sale price per square foot compared to the previous year?\n",
    "\n",
    "    * If so, did the gross rent increase or decrease during that year?\n",
    "\n"
   ]
  },
  {
   "cell_type": "markdown",
   "metadata": {},
   "source": [
    "### Step 1: Group the data by year, and then average the results."
   ]
  },
  {
   "cell_type": "code",
   "execution_count": 82,
   "metadata": {},
   "outputs": [
    {
     "data": {
      "text/html": [
       "<div>\n",
       "<style scoped>\n",
       "    .dataframe tbody tr th:only-of-type {\n",
       "        vertical-align: middle;\n",
       "    }\n",
       "\n",
       "    .dataframe tbody tr th {\n",
       "        vertical-align: top;\n",
       "    }\n",
       "\n",
       "    .dataframe thead th {\n",
       "        text-align: right;\n",
       "    }\n",
       "</style>\n",
       "<table border=\"1\" class=\"dataframe\">\n",
       "  <thead>\n",
       "    <tr style=\"text-align: right;\">\n",
       "      <th></th>\n",
       "      <th>sale_price_sqr_foot</th>\n",
       "      <th>housing_units</th>\n",
       "      <th>gross_rent</th>\n",
       "    </tr>\n",
       "    <tr>\n",
       "      <th>year</th>\n",
       "      <th></th>\n",
       "      <th></th>\n",
       "      <th></th>\n",
       "    </tr>\n",
       "  </thead>\n",
       "  <tbody>\n",
       "    <tr>\n",
       "      <th>2010</th>\n",
       "      <td>369.344353</td>\n",
       "      <td>372560.0</td>\n",
       "      <td>1239.0</td>\n",
       "    </tr>\n",
       "    <tr>\n",
       "      <th>2011</th>\n",
       "      <td>341.903429</td>\n",
       "      <td>374507.0</td>\n",
       "      <td>1530.0</td>\n",
       "    </tr>\n",
       "    <tr>\n",
       "      <th>2012</th>\n",
       "      <td>399.389968</td>\n",
       "      <td>376454.0</td>\n",
       "      <td>2324.0</td>\n",
       "    </tr>\n",
       "    <tr>\n",
       "      <th>2013</th>\n",
       "      <td>483.600304</td>\n",
       "      <td>378401.0</td>\n",
       "      <td>2971.0</td>\n",
       "    </tr>\n",
       "    <tr>\n",
       "      <th>2014</th>\n",
       "      <td>556.277273</td>\n",
       "      <td>380348.0</td>\n",
       "      <td>3528.0</td>\n",
       "    </tr>\n",
       "  </tbody>\n",
       "</table>\n",
       "</div>"
      ],
      "text/plain": [
       "      sale_price_sqr_foot  housing_units  gross_rent\n",
       "year                                                \n",
       "2010           369.344353       372560.0      1239.0\n",
       "2011           341.903429       374507.0      1530.0\n",
       "2012           399.389968       376454.0      2324.0\n",
       "2013           483.600304       378401.0      2971.0\n",
       "2014           556.277273       380348.0      3528.0"
      ]
     },
     "metadata": {},
     "output_type": "display_data"
    },
    {
     "data": {
      "text/html": [
       "<div>\n",
       "<style scoped>\n",
       "    .dataframe tbody tr th:only-of-type {\n",
       "        vertical-align: middle;\n",
       "    }\n",
       "\n",
       "    .dataframe tbody tr th {\n",
       "        vertical-align: top;\n",
       "    }\n",
       "\n",
       "    .dataframe thead th {\n",
       "        text-align: right;\n",
       "    }\n",
       "</style>\n",
       "<table border=\"1\" class=\"dataframe\">\n",
       "  <thead>\n",
       "    <tr style=\"text-align: right;\">\n",
       "      <th></th>\n",
       "      <th>sale_price_sqr_foot</th>\n",
       "      <th>housing_units</th>\n",
       "      <th>gross_rent</th>\n",
       "    </tr>\n",
       "    <tr>\n",
       "      <th>year</th>\n",
       "      <th></th>\n",
       "      <th></th>\n",
       "      <th></th>\n",
       "    </tr>\n",
       "  </thead>\n",
       "  <tbody>\n",
       "    <tr>\n",
       "      <th>2012</th>\n",
       "      <td>399.389968</td>\n",
       "      <td>376454.0</td>\n",
       "      <td>2324.0</td>\n",
       "    </tr>\n",
       "    <tr>\n",
       "      <th>2013</th>\n",
       "      <td>483.600304</td>\n",
       "      <td>378401.0</td>\n",
       "      <td>2971.0</td>\n",
       "    </tr>\n",
       "    <tr>\n",
       "      <th>2014</th>\n",
       "      <td>556.277273</td>\n",
       "      <td>380348.0</td>\n",
       "      <td>3528.0</td>\n",
       "    </tr>\n",
       "    <tr>\n",
       "      <th>2015</th>\n",
       "      <td>632.540352</td>\n",
       "      <td>382295.0</td>\n",
       "      <td>3739.0</td>\n",
       "    </tr>\n",
       "    <tr>\n",
       "      <th>2016</th>\n",
       "      <td>697.643709</td>\n",
       "      <td>384242.0</td>\n",
       "      <td>4390.0</td>\n",
       "    </tr>\n",
       "  </tbody>\n",
       "</table>\n",
       "</div>"
      ],
      "text/plain": [
       "      sale_price_sqr_foot  housing_units  gross_rent\n",
       "year                                                \n",
       "2012           399.389968       376454.0      2324.0\n",
       "2013           483.600304       378401.0      2971.0\n",
       "2014           556.277273       380348.0      3528.0\n",
       "2015           632.540352       382295.0      3739.0\n",
       "2016           697.643709       384242.0      4390.0"
      ]
     },
     "metadata": {},
     "output_type": "display_data"
    }
   ],
   "source": [
    "# Create a numerical aggregation by grouping the data by year and averaging the results\n",
    "sfo_data_mean_df = sfo_data_df.groupby('year').mean()\n",
    "\n",
    "\n",
    "# Review the first and last five rows of the DataFrame\n",
    "display(sfo_data_mean_df.head())\n",
    "display(sfo_data_mean_df.tail())\n"
   ]
  },
  {
   "cell_type": "markdown",
   "metadata": {},
   "source": [
    "**Question:** What is the lowest gross rent reported for the years included in the DataFrame?\n",
    "\n",
    "**Answer:** # 1239"
   ]
  },
  {
   "cell_type": "markdown",
   "metadata": {},
   "source": [
    "### Step 2: Create a new DataFrame named `prices_square_foot_by_year` by filtering out the “housing_units” column. The new DataFrame should include the averages per year for only the sale price per square foot and the gross rent."
   ]
  },
  {
   "cell_type": "code",
   "execution_count": 83,
   "metadata": {},
   "outputs": [
    {
     "data": {
      "text/html": [
       "<div>\n",
       "<style scoped>\n",
       "    .dataframe tbody tr th:only-of-type {\n",
       "        vertical-align: middle;\n",
       "    }\n",
       "\n",
       "    .dataframe tbody tr th {\n",
       "        vertical-align: top;\n",
       "    }\n",
       "\n",
       "    .dataframe thead th {\n",
       "        text-align: right;\n",
       "    }\n",
       "</style>\n",
       "<table border=\"1\" class=\"dataframe\">\n",
       "  <thead>\n",
       "    <tr style=\"text-align: right;\">\n",
       "      <th></th>\n",
       "      <th>sale_price_sqr_foot</th>\n",
       "      <th>gross_rent</th>\n",
       "    </tr>\n",
       "    <tr>\n",
       "      <th>year</th>\n",
       "      <th></th>\n",
       "      <th></th>\n",
       "    </tr>\n",
       "  </thead>\n",
       "  <tbody>\n",
       "    <tr>\n",
       "      <th>2010</th>\n",
       "      <td>369.344353</td>\n",
       "      <td>1239.0</td>\n",
       "    </tr>\n",
       "    <tr>\n",
       "      <th>2011</th>\n",
       "      <td>341.903429</td>\n",
       "      <td>1530.0</td>\n",
       "    </tr>\n",
       "    <tr>\n",
       "      <th>2012</th>\n",
       "      <td>399.389968</td>\n",
       "      <td>2324.0</td>\n",
       "    </tr>\n",
       "    <tr>\n",
       "      <th>2013</th>\n",
       "      <td>483.600304</td>\n",
       "      <td>2971.0</td>\n",
       "    </tr>\n",
       "    <tr>\n",
       "      <th>2014</th>\n",
       "      <td>556.277273</td>\n",
       "      <td>3528.0</td>\n",
       "    </tr>\n",
       "  </tbody>\n",
       "</table>\n",
       "</div>"
      ],
      "text/plain": [
       "      sale_price_sqr_foot  gross_rent\n",
       "year                                 \n",
       "2010           369.344353      1239.0\n",
       "2011           341.903429      1530.0\n",
       "2012           399.389968      2324.0\n",
       "2013           483.600304      2971.0\n",
       "2014           556.277273      3528.0"
      ]
     },
     "metadata": {},
     "output_type": "display_data"
    },
    {
     "data": {
      "text/html": [
       "<div>\n",
       "<style scoped>\n",
       "    .dataframe tbody tr th:only-of-type {\n",
       "        vertical-align: middle;\n",
       "    }\n",
       "\n",
       "    .dataframe tbody tr th {\n",
       "        vertical-align: top;\n",
       "    }\n",
       "\n",
       "    .dataframe thead th {\n",
       "        text-align: right;\n",
       "    }\n",
       "</style>\n",
       "<table border=\"1\" class=\"dataframe\">\n",
       "  <thead>\n",
       "    <tr style=\"text-align: right;\">\n",
       "      <th></th>\n",
       "      <th>sale_price_sqr_foot</th>\n",
       "      <th>gross_rent</th>\n",
       "    </tr>\n",
       "    <tr>\n",
       "      <th>year</th>\n",
       "      <th></th>\n",
       "      <th></th>\n",
       "    </tr>\n",
       "  </thead>\n",
       "  <tbody>\n",
       "    <tr>\n",
       "      <th>2012</th>\n",
       "      <td>399.389968</td>\n",
       "      <td>2324.0</td>\n",
       "    </tr>\n",
       "    <tr>\n",
       "      <th>2013</th>\n",
       "      <td>483.600304</td>\n",
       "      <td>2971.0</td>\n",
       "    </tr>\n",
       "    <tr>\n",
       "      <th>2014</th>\n",
       "      <td>556.277273</td>\n",
       "      <td>3528.0</td>\n",
       "    </tr>\n",
       "    <tr>\n",
       "      <th>2015</th>\n",
       "      <td>632.540352</td>\n",
       "      <td>3739.0</td>\n",
       "    </tr>\n",
       "    <tr>\n",
       "      <th>2016</th>\n",
       "      <td>697.643709</td>\n",
       "      <td>4390.0</td>\n",
       "    </tr>\n",
       "  </tbody>\n",
       "</table>\n",
       "</div>"
      ],
      "text/plain": [
       "      sale_price_sqr_foot  gross_rent\n",
       "year                                 \n",
       "2012           399.389968      2324.0\n",
       "2013           483.600304      2971.0\n",
       "2014           556.277273      3528.0\n",
       "2015           632.540352      3739.0\n",
       "2016           697.643709      4390.0"
      ]
     },
     "metadata": {},
     "output_type": "display_data"
    }
   ],
   "source": [
    "# Filter out the housing_units column, creating a new DataFrame \n",
    "# Keep only sale_price_sqr_foot and gross_rent averages per year\n",
    "prices_square_foot_by_year = housing_units_by_year.drop(columns=['housing_units'])\n",
    "\n",
    "# Review the DataFrame\n",
    "display(prices_square_foot_by_year.head())\n",
    "display(prices_square_foot_by_year.tail())\n"
   ]
  },
  {
   "cell_type": "markdown",
   "metadata": {},
   "source": [
    "### Step 3: Use hvPlot to plot the `prices_square_foot_by_year` DataFrame as a line plot."
   ]
  },
  {
   "cell_type": "code",
   "execution_count": 84,
   "metadata": {},
   "outputs": [
    {
     "data": {},
     "metadata": {},
     "output_type": "display_data"
    },
    {
     "data": {
      "application/vnd.holoviews_exec.v0+json": "",
      "text/html": [
       "<div id='5308'>\n",
       "\n",
       "\n",
       "\n",
       "\n",
       "\n",
       "  <div class=\"bk-root\" id=\"ce030bcb-27d0-42c7-b0b3-c0eee8008cb9\" data-root-id=\"5308\"></div>\n",
       "</div>\n",
       "<script type=\"application/javascript\">(function(root) {\n",
       "  function embed_document(root) {\n",
       "    var docs_json = {\"8d8b630b-39bc-40ee-8f35-cfd4d12f17bc\":{\"defs\":[{\"extends\":null,\"module\":null,\"name\":\"ReactiveHTML1\",\"overrides\":[],\"properties\":[]},{\"extends\":null,\"module\":null,\"name\":\"FlexBox1\",\"overrides\":[],\"properties\":[{\"default\":\"flex-start\",\"kind\":null,\"name\":\"align_content\"},{\"default\":\"flex-start\",\"kind\":null,\"name\":\"align_items\"},{\"default\":\"row\",\"kind\":null,\"name\":\"flex_direction\"},{\"default\":\"wrap\",\"kind\":null,\"name\":\"flex_wrap\"},{\"default\":\"flex-start\",\"kind\":null,\"name\":\"justify_content\"}]},{\"extends\":null,\"module\":null,\"name\":\"GridStack1\",\"overrides\":[],\"properties\":[{\"default\":\"warn\",\"kind\":null,\"name\":\"mode\"},{\"default\":null,\"kind\":null,\"name\":\"ncols\"},{\"default\":null,\"kind\":null,\"name\":\"nrows\"},{\"default\":true,\"kind\":null,\"name\":\"allow_resize\"},{\"default\":true,\"kind\":null,\"name\":\"allow_drag\"},{\"default\":[],\"kind\":null,\"name\":\"state\"}]},{\"extends\":null,\"module\":null,\"name\":\"click1\",\"overrides\":[],\"properties\":[{\"default\":\"\",\"kind\":null,\"name\":\"terminal_output\"},{\"default\":\"\",\"kind\":null,\"name\":\"debug_name\"},{\"default\":0,\"kind\":null,\"name\":\"clears\"}]},{\"extends\":null,\"module\":null,\"name\":\"TemplateActions1\",\"overrides\":[],\"properties\":[{\"default\":0,\"kind\":null,\"name\":\"open_modal\"},{\"default\":0,\"kind\":null,\"name\":\"close_modal\"}]},{\"extends\":null,\"module\":null,\"name\":\"MaterialTemplateActions1\",\"overrides\":[],\"properties\":[{\"default\":0,\"kind\":null,\"name\":\"open_modal\"},{\"default\":0,\"kind\":null,\"name\":\"close_modal\"}]}],\"roots\":{\"references\":[{\"attributes\":{\"below\":[{\"id\":\"5323\"}],\"center\":[{\"id\":\"5326\"},{\"id\":\"5330\"}],\"height\":300,\"left\":[{\"id\":\"5327\"}],\"margin\":[5,5,5,5],\"min_border_bottom\":10,\"min_border_left\":10,\"min_border_right\":10,\"min_border_top\":10,\"renderers\":[{\"id\":\"5356\"},{\"id\":\"5377\"}],\"right\":[{\"id\":\"5368\"}],\"sizing_mode\":\"fixed\",\"title\":{\"id\":\"5315\"},\"toolbar\":{\"id\":\"5337\"},\"width\":700,\"x_range\":{\"id\":\"5310\"},\"x_scale\":{\"id\":\"5319\"},\"y_range\":{\"id\":\"5311\"},\"y_scale\":{\"id\":\"5321\"}},\"id\":\"5314\",\"subtype\":\"Figure\",\"type\":\"Plot\"},{\"attributes\":{},\"id\":\"5365\",\"type\":\"UnionRenderers\"},{\"attributes\":{\"coordinates\":null,\"group\":null,\"text\":\"Sale Price Per Square Foot and Average Gross Rent - 2010-2016- San Francisco\",\"text_color\":\"black\",\"text_font_size\":\"12pt\"},\"id\":\"5315\",\"type\":\"Title\"},{\"attributes\":{},\"id\":\"5319\",\"type\":\"LinearScale\"},{\"attributes\":{\"callback\":null,\"renderers\":[{\"id\":\"5356\"},{\"id\":\"5377\"}],\"tags\":[\"hv_created\"],\"tooltips\":[[\"Variable\",\"@{Variable}\"],[\"year\",\"@{year}\"],[\"value\",\"@{value}\"]]},\"id\":\"5312\",\"type\":\"HoverTool\"},{\"attributes\":{\"margin\":[5,5,5,5],\"name\":\"HSpacer10789\",\"sizing_mode\":\"stretch_width\"},\"id\":\"5501\",\"type\":\"Spacer\"},{\"attributes\":{\"source\":{\"id\":\"5371\"}},\"id\":\"5378\",\"type\":\"CDSView\"},{\"attributes\":{},\"id\":\"5349\",\"type\":\"AllLabels\"},{\"attributes\":{},\"id\":\"5372\",\"type\":\"Selection\"},{\"attributes\":{},\"id\":\"5345\",\"type\":\"BasicTickFormatter\"},{\"attributes\":{\"axis\":{\"id\":\"5323\"},\"coordinates\":null,\"grid_line_color\":null,\"group\":null,\"ticker\":null},\"id\":\"5326\",\"type\":\"Grid\"},{\"attributes\":{},\"id\":\"5346\",\"type\":\"AllLabels\"},{\"attributes\":{\"axis_label\":\"Year\",\"coordinates\":null,\"formatter\":{\"id\":\"5345\"},\"group\":null,\"major_label_policy\":{\"id\":\"5346\"},\"ticker\":{\"id\":\"5324\"}},\"id\":\"5323\",\"type\":\"LinearAxis\"},{\"attributes\":{\"line_alpha\":0.1,\"line_color\":\"#30a2da\",\"line_width\":2,\"x\":{\"field\":\"year\"},\"y\":{\"field\":\"value\"}},\"id\":\"5354\",\"type\":\"Line\"},{\"attributes\":{},\"id\":\"5328\",\"type\":\"BasicTicker\"},{\"attributes\":{\"line_alpha\":0.2,\"line_color\":\"#30a2da\",\"line_width\":2,\"x\":{\"field\":\"year\"},\"y\":{\"field\":\"value\"}},\"id\":\"5355\",\"type\":\"Line\"},{\"attributes\":{},\"id\":\"5321\",\"type\":\"LinearScale\"},{\"attributes\":{\"line_color\":\"#fc4f30\",\"line_width\":2,\"x\":{\"field\":\"year\"},\"y\":{\"field\":\"value\"}},\"id\":\"5392\",\"type\":\"Line\"},{\"attributes\":{},\"id\":\"5351\",\"type\":\"Selection\"},{\"attributes\":{},\"id\":\"5332\",\"type\":\"PanTool\"},{\"attributes\":{\"margin\":[5,5,5,5],\"name\":\"HSpacer10788\",\"sizing_mode\":\"stretch_width\"},\"id\":\"5309\",\"type\":\"Spacer\"},{\"attributes\":{\"coordinates\":null,\"data_source\":{\"id\":\"5350\"},\"glyph\":{\"id\":\"5353\"},\"group\":null,\"hover_glyph\":null,\"muted_glyph\":{\"id\":\"5355\"},\"nonselection_glyph\":{\"id\":\"5354\"},\"selection_glyph\":{\"id\":\"5370\"},\"view\":{\"id\":\"5357\"}},\"id\":\"5356\",\"type\":\"GlyphRenderer\"},{\"attributes\":{\"axis\":{\"id\":\"5327\"},\"coordinates\":null,\"dimension\":1,\"grid_line_color\":null,\"group\":null,\"ticker\":null},\"id\":\"5330\",\"type\":\"Grid\"},{\"attributes\":{\"source\":{\"id\":\"5350\"}},\"id\":\"5357\",\"type\":\"CDSView\"},{\"attributes\":{\"axis_label\":\"Gross Rent/ Sale Price Per Square Foot\",\"coordinates\":null,\"formatter\":{\"id\":\"5348\"},\"group\":null,\"major_label_policy\":{\"id\":\"5349\"},\"ticker\":{\"id\":\"5328\"}},\"id\":\"5327\",\"type\":\"LinearAxis\"},{\"attributes\":{},\"id\":\"5388\",\"type\":\"UnionRenderers\"},{\"attributes\":{\"data\":{\"Variable\":[\"gross_rent\",\"gross_rent\",\"gross_rent\",\"gross_rent\",\"gross_rent\",\"gross_rent\",\"gross_rent\"],\"value\":{\"__ndarray__\":\"AAAAAABck0AAAAAAAOiXQAAAAAAAKKJAAAAAAAA2p0AAAAAAAJCrQAAAAAAANq1AAAAAAAAmsUA=\",\"dtype\":\"float64\",\"order\":\"little\",\"shape\":[7]},\"year\":[2010,2011,2012,2013,2014,2015,2016]},\"selected\":{\"id\":\"5372\"},\"selection_policy\":{\"id\":\"5388\"}},\"id\":\"5371\",\"type\":\"ColumnDataSource\"},{\"attributes\":{\"data\":{\"Variable\":[\"sale_price_sqr_foot\",\"sale_price_sqr_foot\",\"sale_price_sqr_foot\",\"sale_price_sqr_foot\",\"sale_price_sqr_foot\",\"sale_price_sqr_foot\",\"sale_price_sqr_foot\"],\"value\":{\"__ndarray__\":\"tgKjeIIVd0Dn7CdydF51QGhijk899nhAZhKk2Jo5fkDGKCTbN2KBQPMTFqRSxINATx33UCbNhUA=\",\"dtype\":\"float64\",\"order\":\"little\",\"shape\":[7]},\"year\":[2010,2011,2012,2013,2014,2015,2016]},\"selected\":{\"id\":\"5351\"},\"selection_policy\":{\"id\":\"5365\"}},\"id\":\"5350\",\"type\":\"ColumnDataSource\"},{\"attributes\":{},\"id\":\"5333\",\"type\":\"WheelZoomTool\"},{\"attributes\":{},\"id\":\"5331\",\"type\":\"SaveTool\"},{\"attributes\":{\"click_policy\":\"mute\",\"coordinates\":null,\"group\":null,\"items\":[{\"id\":\"5369\"},{\"id\":\"5391\"}],\"location\":[0,0],\"title\":\"Variable\"},\"id\":\"5368\",\"type\":\"Legend\"},{\"attributes\":{\"coordinates\":null,\"data_source\":{\"id\":\"5371\"},\"glyph\":{\"id\":\"5374\"},\"group\":null,\"hover_glyph\":null,\"muted_glyph\":{\"id\":\"5376\"},\"nonselection_glyph\":{\"id\":\"5375\"},\"selection_glyph\":{\"id\":\"5392\"},\"view\":{\"id\":\"5378\"}},\"id\":\"5377\",\"type\":\"GlyphRenderer\"},{\"attributes\":{\"label\":{\"value\":\"sale_price_sqr_foot\"},\"renderers\":[{\"id\":\"5356\"}]},\"id\":\"5369\",\"type\":\"LegendItem\"},{\"attributes\":{\"overlay\":{\"id\":\"5336\"}},\"id\":\"5334\",\"type\":\"BoxZoomTool\"},{\"attributes\":{},\"id\":\"5324\",\"type\":\"BasicTicker\"},{\"attributes\":{},\"id\":\"5335\",\"type\":\"ResetTool\"},{\"attributes\":{\"line_color\":\"#30a2da\",\"line_width\":2,\"x\":{\"field\":\"year\"},\"y\":{\"field\":\"value\"}},\"id\":\"5353\",\"type\":\"Line\"},{\"attributes\":{\"bottom_units\":\"screen\",\"coordinates\":null,\"fill_alpha\":0.5,\"fill_color\":\"lightgrey\",\"group\":null,\"left_units\":\"screen\",\"level\":\"overlay\",\"line_alpha\":1.0,\"line_color\":\"black\",\"line_dash\":[4,4],\"line_width\":2,\"right_units\":\"screen\",\"syncable\":false,\"top_units\":\"screen\"},\"id\":\"5336\",\"type\":\"BoxAnnotation\"},{\"attributes\":{\"tools\":[{\"id\":\"5312\"},{\"id\":\"5331\"},{\"id\":\"5332\"},{\"id\":\"5333\"},{\"id\":\"5334\"},{\"id\":\"5335\"}]},\"id\":\"5337\",\"type\":\"Toolbar\"},{\"attributes\":{\"label\":{\"value\":\"gross_rent\"},\"renderers\":[{\"id\":\"5377\"}]},\"id\":\"5391\",\"type\":\"LegendItem\"},{\"attributes\":{\"children\":[{\"id\":\"5309\"},{\"id\":\"5314\"},{\"id\":\"5501\"}],\"margin\":[0,0,0,0],\"name\":\"Row10784\",\"tags\":[\"embedded\"]},\"id\":\"5308\",\"type\":\"Row\"},{\"attributes\":{},\"id\":\"5348\",\"type\":\"BasicTickFormatter\"},{\"attributes\":{\"line_color\":\"#fc4f30\",\"line_width\":2,\"x\":{\"field\":\"year\"},\"y\":{\"field\":\"value\"}},\"id\":\"5374\",\"type\":\"Line\"},{\"attributes\":{\"end\":2016.0,\"reset_end\":2016.0,\"reset_start\":2010.0,\"start\":2010.0,\"tags\":[[[\"year\",\"year\",null]]]},\"id\":\"5310\",\"type\":\"Range1d\"},{\"attributes\":{\"line_alpha\":0.2,\"line_color\":\"#fc4f30\",\"line_width\":2,\"x\":{\"field\":\"year\"},\"y\":{\"field\":\"value\"}},\"id\":\"5376\",\"type\":\"Line\"},{\"attributes\":{\"end\":4794.80965708199,\"reset_end\":4794.80965708199,\"reset_start\":-62.90622790188365,\"start\":-62.90622790188365,\"tags\":[[[\"value\",\"value\",null]]]},\"id\":\"5311\",\"type\":\"Range1d\"},{\"attributes\":{\"line_color\":\"#30a2da\",\"line_width\":2,\"x\":{\"field\":\"year\"},\"y\":{\"field\":\"value\"}},\"id\":\"5370\",\"type\":\"Line\"},{\"attributes\":{\"line_alpha\":0.1,\"line_color\":\"#fc4f30\",\"line_width\":2,\"x\":{\"field\":\"year\"},\"y\":{\"field\":\"value\"}},\"id\":\"5375\",\"type\":\"Line\"}],\"root_ids\":[\"5308\"]},\"title\":\"Bokeh Application\",\"version\":\"2.4.2\"}};\n",
       "    var render_items = [{\"docid\":\"8d8b630b-39bc-40ee-8f35-cfd4d12f17bc\",\"root_ids\":[\"5308\"],\"roots\":{\"5308\":\"ce030bcb-27d0-42c7-b0b3-c0eee8008cb9\"}}];\n",
       "    root.Bokeh.embed.embed_items_notebook(docs_json, render_items);\n",
       "  }\n",
       "  if (root.Bokeh !== undefined && root.Bokeh.Panel !== undefined) {\n",
       "    embed_document(root);\n",
       "  } else {\n",
       "    var attempts = 0;\n",
       "    var timer = setInterval(function(root) {\n",
       "      if (root.Bokeh !== undefined && root.Bokeh.Panel !== undefined) {\n",
       "        clearInterval(timer);\n",
       "        embed_document(root);\n",
       "      } else if (document.readyState == \"complete\") {\n",
       "        attempts++;\n",
       "        if (attempts > 200) {\n",
       "          clearInterval(timer);\n",
       "          console.log(\"Bokeh: ERROR: Unable to run BokehJS code because BokehJS library is missing\");\n",
       "        }\n",
       "      }\n",
       "    }, 25, root)\n",
       "  }\n",
       "})(window);</script>"
      ],
      "text/plain": [
       ":NdOverlay   [Variable]\n",
       "   :Curve   [year]   (value)"
      ]
     },
     "execution_count": 84,
     "metadata": {
      "application/vnd.holoviews_exec.v0+json": {
       "id": "5308"
      }
     },
     "output_type": "execute_result"
    }
   ],
   "source": [
    "prices_square_foot_by_year.hvplot(\n",
    "    x='year',\n",
    "    xlabel='Year', \n",
    "    ylabel=\"Gross Rent/ Sale Price Per Square Foot\",\n",
    "    title='Sale Price Per Square Foot and Average Gross Rent - 2010-2016- San Francisco',\n",
    ")\n"
   ]
  },
  {
   "cell_type": "markdown",
   "metadata": {},
   "source": [
    "### Step 4: Style and format the line plot to ensure a professionally styled visualization.\n"
   ]
  },
  {
   "cell_type": "code",
   "execution_count": 85,
   "metadata": {},
   "outputs": [
    {
     "data": {},
     "metadata": {},
     "output_type": "display_data"
    },
    {
     "data": {
      "application/vnd.holoviews_exec.v0+json": "",
      "text/html": [
       "<div id='5563'>\n",
       "\n",
       "\n",
       "\n",
       "\n",
       "\n",
       "  <div class=\"bk-root\" id=\"5833a97c-7aae-4a43-afcc-af0e715b89b1\" data-root-id=\"5563\"></div>\n",
       "</div>\n",
       "<script type=\"application/javascript\">(function(root) {\n",
       "  function embed_document(root) {\n",
       "    var docs_json = {\"04158c4b-3114-45af-8f3a-3967c0748885\":{\"defs\":[{\"extends\":null,\"module\":null,\"name\":\"ReactiveHTML1\",\"overrides\":[],\"properties\":[]},{\"extends\":null,\"module\":null,\"name\":\"FlexBox1\",\"overrides\":[],\"properties\":[{\"default\":\"flex-start\",\"kind\":null,\"name\":\"align_content\"},{\"default\":\"flex-start\",\"kind\":null,\"name\":\"align_items\"},{\"default\":\"row\",\"kind\":null,\"name\":\"flex_direction\"},{\"default\":\"wrap\",\"kind\":null,\"name\":\"flex_wrap\"},{\"default\":\"flex-start\",\"kind\":null,\"name\":\"justify_content\"}]},{\"extends\":null,\"module\":null,\"name\":\"GridStack1\",\"overrides\":[],\"properties\":[{\"default\":\"warn\",\"kind\":null,\"name\":\"mode\"},{\"default\":null,\"kind\":null,\"name\":\"ncols\"},{\"default\":null,\"kind\":null,\"name\":\"nrows\"},{\"default\":true,\"kind\":null,\"name\":\"allow_resize\"},{\"default\":true,\"kind\":null,\"name\":\"allow_drag\"},{\"default\":[],\"kind\":null,\"name\":\"state\"}]},{\"extends\":null,\"module\":null,\"name\":\"click1\",\"overrides\":[],\"properties\":[{\"default\":\"\",\"kind\":null,\"name\":\"terminal_output\"},{\"default\":\"\",\"kind\":null,\"name\":\"debug_name\"},{\"default\":0,\"kind\":null,\"name\":\"clears\"}]},{\"extends\":null,\"module\":null,\"name\":\"TemplateActions1\",\"overrides\":[],\"properties\":[{\"default\":0,\"kind\":null,\"name\":\"open_modal\"},{\"default\":0,\"kind\":null,\"name\":\"close_modal\"}]},{\"extends\":null,\"module\":null,\"name\":\"MaterialTemplateActions1\",\"overrides\":[],\"properties\":[{\"default\":0,\"kind\":null,\"name\":\"open_modal\"},{\"default\":0,\"kind\":null,\"name\":\"close_modal\"}]}],\"roots\":{\"references\":[{\"attributes\":{\"end\":4794.80965708199,\"reset_end\":4794.80965708199,\"reset_start\":-62.90622790188365,\"start\":-62.90622790188365,\"tags\":[[[\"value\",\"value\",null]]]},\"id\":\"5566\",\"type\":\"Range1d\"},{\"attributes\":{},\"id\":\"5604\",\"type\":\"AllLabels\"},{\"attributes\":{},\"id\":\"5606\",\"type\":\"Selection\"},{\"attributes\":{\"below\":[{\"id\":\"5578\"}],\"center\":[{\"id\":\"5581\"},{\"id\":\"5585\"}],\"height\":300,\"left\":[{\"id\":\"5582\"}],\"margin\":[5,5,5,5],\"min_border_bottom\":10,\"min_border_left\":10,\"min_border_right\":10,\"min_border_top\":10,\"renderers\":[{\"id\":\"5611\"},{\"id\":\"5632\"}],\"right\":[{\"id\":\"5623\"}],\"sizing_mode\":\"fixed\",\"title\":{\"id\":\"5570\"},\"toolbar\":{\"id\":\"5592\"},\"width\":700,\"x_range\":{\"id\":\"5565\"},\"x_scale\":{\"id\":\"5574\"},\"y_range\":{\"id\":\"5566\"},\"y_scale\":{\"id\":\"5576\"}},\"id\":\"5569\",\"subtype\":\"Figure\",\"type\":\"Plot\"},{\"attributes\":{},\"id\":\"5600\",\"type\":\"BasicTickFormatter\"},{\"attributes\":{\"coordinates\":null,\"group\":null,\"text\":\"Sale Price Per Square Foot and Average Gross Rent - 2010-2016- San Francisco\",\"text_color\":\"black\",\"text_font_size\":\"12pt\"},\"id\":\"5570\",\"type\":\"Title\"},{\"attributes\":{\"source\":{\"id\":\"5626\"}},\"id\":\"5633\",\"type\":\"CDSView\"},{\"attributes\":{},\"id\":\"5574\",\"type\":\"LinearScale\"},{\"attributes\":{\"line_alpha\":0.1,\"line_color\":\"#fc4f30\",\"line_width\":2,\"x\":{\"field\":\"year\"},\"y\":{\"field\":\"value\"}},\"id\":\"5630\",\"type\":\"Line\"},{\"attributes\":{\"callback\":null,\"renderers\":[{\"id\":\"5611\"},{\"id\":\"5632\"}],\"tags\":[\"hv_created\"],\"tooltips\":[[\"Variable\",\"@{Variable}\"],[\"year\",\"@{year}\"],[\"value\",\"@{value}\"]]},\"id\":\"5567\",\"type\":\"HoverTool\"},{\"attributes\":{\"bottom_units\":\"screen\",\"coordinates\":null,\"fill_alpha\":0.5,\"fill_color\":\"lightgrey\",\"group\":null,\"left_units\":\"screen\",\"level\":\"overlay\",\"line_alpha\":1.0,\"line_color\":\"black\",\"line_dash\":[4,4],\"line_width\":2,\"right_units\":\"screen\",\"syncable\":false,\"top_units\":\"screen\"},\"id\":\"5591\",\"type\":\"BoxAnnotation\"},{\"attributes\":{\"coordinates\":null,\"data_source\":{\"id\":\"5626\"},\"glyph\":{\"id\":\"5629\"},\"group\":null,\"hover_glyph\":null,\"muted_glyph\":{\"id\":\"5631\"},\"nonselection_glyph\":{\"id\":\"5630\"},\"selection_glyph\":{\"id\":\"5647\"},\"view\":{\"id\":\"5633\"}},\"id\":\"5632\",\"type\":\"GlyphRenderer\"},{\"attributes\":{\"line_alpha\":0.2,\"line_color\":\"#30a2da\",\"line_width\":2,\"x\":{\"field\":\"year\"},\"y\":{\"field\":\"value\"}},\"id\":\"5610\",\"type\":\"Line\"},{\"attributes\":{},\"id\":\"5627\",\"type\":\"Selection\"},{\"attributes\":{\"line_color\":\"#fc4f30\",\"line_width\":2,\"x\":{\"field\":\"year\"},\"y\":{\"field\":\"value\"}},\"id\":\"5647\",\"type\":\"Line\"},{\"attributes\":{\"axis\":{\"id\":\"5578\"},\"coordinates\":null,\"grid_line_color\":null,\"group\":null,\"ticker\":null},\"id\":\"5581\",\"type\":\"Grid\"},{\"attributes\":{\"axis_label\":\"Year\",\"coordinates\":null,\"formatter\":{\"id\":\"5600\"},\"group\":null,\"major_label_policy\":{\"id\":\"5601\"},\"ticker\":{\"id\":\"5579\"}},\"id\":\"5578\",\"type\":\"LinearAxis\"},{\"attributes\":{\"line_alpha\":0.2,\"line_color\":\"#fc4f30\",\"line_width\":2,\"x\":{\"field\":\"year\"},\"y\":{\"field\":\"value\"}},\"id\":\"5631\",\"type\":\"Line\"},{\"attributes\":{\"label\":{\"value\":\"sale_price_sqr_foot\"},\"renderers\":[{\"id\":\"5611\"}]},\"id\":\"5624\",\"type\":\"LegendItem\"},{\"attributes\":{\"margin\":[5,5,5,5],\"name\":\"HSpacer11286\",\"sizing_mode\":\"stretch_width\"},\"id\":\"5756\",\"type\":\"Spacer\"},{\"attributes\":{},\"id\":\"5583\",\"type\":\"BasicTicker\"},{\"attributes\":{\"tools\":[{\"id\":\"5567\"},{\"id\":\"5586\"},{\"id\":\"5587\"},{\"id\":\"5588\"},{\"id\":\"5589\"},{\"id\":\"5590\"}]},\"id\":\"5592\",\"type\":\"Toolbar\"},{\"attributes\":{},\"id\":\"5576\",\"type\":\"LinearScale\"},{\"attributes\":{},\"id\":\"5601\",\"type\":\"AllLabels\"},{\"attributes\":{\"label\":{\"value\":\"gross_rent\"},\"renderers\":[{\"id\":\"5632\"}]},\"id\":\"5646\",\"type\":\"LegendItem\"},{\"attributes\":{},\"id\":\"5587\",\"type\":\"PanTool\"},{\"attributes\":{\"margin\":[5,5,5,5],\"name\":\"HSpacer11285\",\"sizing_mode\":\"stretch_width\"},\"id\":\"5564\",\"type\":\"Spacer\"},{\"attributes\":{\"axis\":{\"id\":\"5582\"},\"coordinates\":null,\"dimension\":1,\"grid_line_color\":null,\"group\":null,\"ticker\":null},\"id\":\"5585\",\"type\":\"Grid\"},{\"attributes\":{\"axis_label\":\"Gross Rent/ Sale Price Per Square Foot\",\"coordinates\":null,\"formatter\":{\"id\":\"5603\"},\"group\":null,\"major_label_policy\":{\"id\":\"5604\"},\"ticker\":{\"id\":\"5583\"}},\"id\":\"5582\",\"type\":\"LinearAxis\"},{\"attributes\":{},\"id\":\"5643\",\"type\":\"UnionRenderers\"},{\"attributes\":{},\"id\":\"5588\",\"type\":\"WheelZoomTool\"},{\"attributes\":{},\"id\":\"5586\",\"type\":\"SaveTool\"},{\"attributes\":{},\"id\":\"5603\",\"type\":\"BasicTickFormatter\"},{\"attributes\":{},\"id\":\"5579\",\"type\":\"BasicTicker\"},{\"attributes\":{\"overlay\":{\"id\":\"5591\"}},\"id\":\"5589\",\"type\":\"BoxZoomTool\"},{\"attributes\":{\"line_alpha\":0.1,\"line_color\":\"#30a2da\",\"line_width\":2,\"x\":{\"field\":\"year\"},\"y\":{\"field\":\"value\"}},\"id\":\"5609\",\"type\":\"Line\"},{\"attributes\":{},\"id\":\"5590\",\"type\":\"ResetTool\"},{\"attributes\":{\"click_policy\":\"mute\",\"coordinates\":null,\"group\":null,\"items\":[{\"id\":\"5624\"},{\"id\":\"5646\"}],\"location\":[0,0],\"title\":\"Variable\"},\"id\":\"5623\",\"type\":\"Legend\"},{\"attributes\":{},\"id\":\"5620\",\"type\":\"UnionRenderers\"},{\"attributes\":{\"source\":{\"id\":\"5605\"}},\"id\":\"5612\",\"type\":\"CDSView\"},{\"attributes\":{\"line_color\":\"#30a2da\",\"line_width\":2,\"x\":{\"field\":\"year\"},\"y\":{\"field\":\"value\"}},\"id\":\"5608\",\"type\":\"Line\"},{\"attributes\":{\"data\":{\"Variable\":[\"gross_rent\",\"gross_rent\",\"gross_rent\",\"gross_rent\",\"gross_rent\",\"gross_rent\",\"gross_rent\"],\"value\":{\"__ndarray__\":\"AAAAAABck0AAAAAAAOiXQAAAAAAAKKJAAAAAAAA2p0AAAAAAAJCrQAAAAAAANq1AAAAAAAAmsUA=\",\"dtype\":\"float64\",\"order\":\"little\",\"shape\":[7]},\"year\":[2010,2011,2012,2013,2014,2015,2016]},\"selected\":{\"id\":\"5627\"},\"selection_policy\":{\"id\":\"5643\"}},\"id\":\"5626\",\"type\":\"ColumnDataSource\"},{\"attributes\":{\"children\":[{\"id\":\"5564\"},{\"id\":\"5569\"},{\"id\":\"5756\"}],\"margin\":[0,0,0,0],\"name\":\"Row11281\",\"tags\":[\"embedded\"]},\"id\":\"5563\",\"type\":\"Row\"},{\"attributes\":{\"data\":{\"Variable\":[\"sale_price_sqr_foot\",\"sale_price_sqr_foot\",\"sale_price_sqr_foot\",\"sale_price_sqr_foot\",\"sale_price_sqr_foot\",\"sale_price_sqr_foot\",\"sale_price_sqr_foot\"],\"value\":{\"__ndarray__\":\"tgKjeIIVd0Dn7CdydF51QGhijk899nhAZhKk2Jo5fkDGKCTbN2KBQPMTFqRSxINATx33UCbNhUA=\",\"dtype\":\"float64\",\"order\":\"little\",\"shape\":[7]},\"year\":[2010,2011,2012,2013,2014,2015,2016]},\"selected\":{\"id\":\"5606\"},\"selection_policy\":{\"id\":\"5620\"}},\"id\":\"5605\",\"type\":\"ColumnDataSource\"},{\"attributes\":{\"coordinates\":null,\"data_source\":{\"id\":\"5605\"},\"glyph\":{\"id\":\"5608\"},\"group\":null,\"hover_glyph\":null,\"muted_glyph\":{\"id\":\"5610\"},\"nonselection_glyph\":{\"id\":\"5609\"},\"selection_glyph\":{\"id\":\"5625\"},\"view\":{\"id\":\"5612\"}},\"id\":\"5611\",\"type\":\"GlyphRenderer\"},{\"attributes\":{\"line_color\":\"#fc4f30\",\"line_width\":2,\"x\":{\"field\":\"year\"},\"y\":{\"field\":\"value\"}},\"id\":\"5629\",\"type\":\"Line\"},{\"attributes\":{\"end\":2016.0,\"reset_end\":2016.0,\"reset_start\":2010.0,\"start\":2010.0,\"tags\":[[[\"year\",\"year\",null]]]},\"id\":\"5565\",\"type\":\"Range1d\"},{\"attributes\":{\"line_color\":\"#30a2da\",\"line_width\":2,\"x\":{\"field\":\"year\"},\"y\":{\"field\":\"value\"}},\"id\":\"5625\",\"type\":\"Line\"}],\"root_ids\":[\"5563\"]},\"title\":\"Bokeh Application\",\"version\":\"2.4.2\"}};\n",
       "    var render_items = [{\"docid\":\"04158c4b-3114-45af-8f3a-3967c0748885\",\"root_ids\":[\"5563\"],\"roots\":{\"5563\":\"5833a97c-7aae-4a43-afcc-af0e715b89b1\"}}];\n",
       "    root.Bokeh.embed.embed_items_notebook(docs_json, render_items);\n",
       "  }\n",
       "  if (root.Bokeh !== undefined && root.Bokeh.Panel !== undefined) {\n",
       "    embed_document(root);\n",
       "  } else {\n",
       "    var attempts = 0;\n",
       "    var timer = setInterval(function(root) {\n",
       "      if (root.Bokeh !== undefined && root.Bokeh.Panel !== undefined) {\n",
       "        clearInterval(timer);\n",
       "        embed_document(root);\n",
       "      } else if (document.readyState == \"complete\") {\n",
       "        attempts++;\n",
       "        if (attempts > 200) {\n",
       "          clearInterval(timer);\n",
       "          console.log(\"Bokeh: ERROR: Unable to run BokehJS code because BokehJS library is missing\");\n",
       "        }\n",
       "      }\n",
       "    }, 25, root)\n",
       "  }\n",
       "})(window);</script>"
      ],
      "text/plain": [
       ":NdOverlay   [Variable]\n",
       "   :Curve   [year]   (value)"
      ]
     },
     "execution_count": 85,
     "metadata": {
      "application/vnd.holoviews_exec.v0+json": {
       "id": "5563"
      }
     },
     "output_type": "execute_result"
    }
   ],
   "source": [
    "prices_square_foot_by_year.hvplot(\n",
    "    x='year',\n",
    "    xlabel='Year', \n",
    "    ylabel=\"Gross Rent/ Sale Price Per Square Foot\",\n",
    "    title='Sale Price Per Square Foot and Average Gross Rent - 2010-2016- San Francisco',\n",
    ")\n"
   ]
  },
  {
   "cell_type": "markdown",
   "metadata": {},
   "source": [
    "### Step 6: Use both the `prices_square_foot_by_year` DataFrame and interactive plots to answer the following questions:"
   ]
  },
  {
   "cell_type": "markdown",
   "metadata": {},
   "source": [
    "**Question:** Did any year experience a drop in the average sale price per square foot compared to the previous year?\n",
    "\n",
    "**Answer:** January 2011 showed a slight dip (369->341 dollars per square foot) but bounced back again by March 2011."
   ]
  },
  {
   "cell_type": "markdown",
   "metadata": {},
   "source": [
    "**Question:** If so, did the gross rent increase or decrease during that year?\n",
    "\n",
    "**Answer:** Gross Rent line angled higher upwards this time period meaning that Gross Rent prices increased sharply. "
   ]
  },
  {
   "cell_type": "markdown",
   "metadata": {},
   "source": [
    "---"
   ]
  },
  {
   "cell_type": "markdown",
   "metadata": {},
   "source": [
    "## Compare the Average Sale Prices by Neighborhood\n",
    "\n",
    "For this part of the assignment, use interactive visualizations and widgets to explore the average sale price per square foot by neighborhood. To do so, complete the following steps:\n",
    "\n",
    "1. Create a new DataFrame that groups the original DataFrame by year and neighborhood. Aggregate the results by the `mean` of the groups.\n",
    "\n",
    "2. Filter out the “housing_units” column to create a DataFrame that includes only the `sale_price_sqr_foot` and `gross_rent` averages per year.\n",
    "\n",
    "3. Create an interactive line plot with hvPlot that visualizes both `sale_price_sqr_foot` and `gross_rent`. Set the x-axis parameter to the year (`x=\"year\"`). Use the `groupby` parameter to create an interactive widget for `neighborhood`.\n",
    "\n",
    "4. Style and format the line plot to ensure a professionally styled visualization.\n",
    "\n",
    "5. Note that your resulting plot should appear similar to the following image:\n",
    "\n",
    "![A screenshot depicts an example of the resulting plot.](Images/pricing-info-by-neighborhood.png)\n",
    "\n",
    "6. Use the interactive visualization to answer the following question:\n",
    "\n",
    "    * For the Anza Vista neighborhood, is the average sale price per square foot for 2016 more or less than the price that’s listed for 2012? \n"
   ]
  },
  {
   "cell_type": "markdown",
   "metadata": {},
   "source": [
    "### Step 1: Create a new DataFrame that groups the original DataFrame by year and neighborhood. Aggregate the results by the `mean` of the groups."
   ]
  },
  {
   "cell_type": "code",
   "execution_count": 91,
   "metadata": {},
   "outputs": [
    {
     "ename": "KeyError",
     "evalue": "'neighborhood'",
     "output_type": "error",
     "traceback": [
      "\u001b[0;31m---------------------------------------------------------------------------\u001b[0m",
      "\u001b[0;31mKeyError\u001b[0m                                  Traceback (most recent call last)",
      "\u001b[1;32m/Users/michaeldionne/Documents/GitHub/Fintech-Workspace/Module 6/Module-6-Challenge/san_francisco_housing.ipynb Cell 30\u001b[0m in \u001b[0;36m<cell line: 3>\u001b[0;34m()\u001b[0m\n\u001b[1;32m      <a href='vscode-notebook-cell:/Users/michaeldionne/Documents/GitHub/Fintech-Workspace/Module%206/Module-6-Challenge/san_francisco_housing.ipynb#ch0000027?line=0'>1</a>\u001b[0m \u001b[39m# Group by year and neighborhood and then create a new dataframe of the mean values\u001b[39;00m\n\u001b[1;32m      <a href='vscode-notebook-cell:/Users/michaeldionne/Documents/GitHub/Fintech-Workspace/Module%206/Module-6-Challenge/san_francisco_housing.ipynb#ch0000027?line=1'>2</a>\u001b[0m \u001b[39m#prices_by_year_by_neighborhood = sfo_data_df.groupby(['year','neighborhood'])['sale_price_sqr_foot'].mean()\u001b[39;00m\n\u001b[0;32m----> <a href='vscode-notebook-cell:/Users/michaeldionne/Documents/GitHub/Fintech-Workspace/Module%206/Module-6-Challenge/san_francisco_housing.ipynb#ch0000027?line=2'>3</a>\u001b[0m prices_by_year_by_neighborhood \u001b[39m=\u001b[39m housing_units_by_year\u001b[39m.\u001b[39;49mgroupby(\u001b[39m'\u001b[39;49m\u001b[39mneighborhood\u001b[39;49m\u001b[39m'\u001b[39;49m)\n\u001b[1;32m      <a href='vscode-notebook-cell:/Users/michaeldionne/Documents/GitHub/Fintech-Workspace/Module%206/Module-6-Challenge/san_francisco_housing.ipynb#ch0000027?line=3'>4</a>\u001b[0m \u001b[39m# Review the DataFrame\u001b[39;00m\n\u001b[1;32m      <a href='vscode-notebook-cell:/Users/michaeldionne/Documents/GitHub/Fintech-Workspace/Module%206/Module-6-Challenge/san_francisco_housing.ipynb#ch0000027?line=4'>5</a>\u001b[0m prices_by_year_by_neighborhood\u001b[39m.\u001b[39mhead()\n",
      "File \u001b[0;32m~/opt/anaconda3/envs/dev/lib/python3.9/site-packages/pandas/core/frame.py:7712\u001b[0m, in \u001b[0;36mDataFrame.groupby\u001b[0;34m(self, by, axis, level, as_index, sort, group_keys, squeeze, observed, dropna)\u001b[0m\n\u001b[1;32m   7707\u001b[0m axis \u001b[39m=\u001b[39m \u001b[39mself\u001b[39m\u001b[39m.\u001b[39m_get_axis_number(axis)\n\u001b[1;32m   7709\u001b[0m \u001b[39m# https://github.com/python/mypy/issues/7642\u001b[39;00m\n\u001b[1;32m   7710\u001b[0m \u001b[39m# error: Argument \"squeeze\" to \"DataFrameGroupBy\" has incompatible type\u001b[39;00m\n\u001b[1;32m   7711\u001b[0m \u001b[39m# \"Union[bool, NoDefault]\"; expected \"bool\"\u001b[39;00m\n\u001b[0;32m-> 7712\u001b[0m \u001b[39mreturn\u001b[39;00m DataFrameGroupBy(\n\u001b[1;32m   7713\u001b[0m     obj\u001b[39m=\u001b[39;49m\u001b[39mself\u001b[39;49m,\n\u001b[1;32m   7714\u001b[0m     keys\u001b[39m=\u001b[39;49mby,\n\u001b[1;32m   7715\u001b[0m     axis\u001b[39m=\u001b[39;49maxis,\n\u001b[1;32m   7716\u001b[0m     level\u001b[39m=\u001b[39;49mlevel,\n\u001b[1;32m   7717\u001b[0m     as_index\u001b[39m=\u001b[39;49mas_index,\n\u001b[1;32m   7718\u001b[0m     sort\u001b[39m=\u001b[39;49msort,\n\u001b[1;32m   7719\u001b[0m     group_keys\u001b[39m=\u001b[39;49mgroup_keys,\n\u001b[1;32m   7720\u001b[0m     squeeze\u001b[39m=\u001b[39;49msqueeze,  \u001b[39m# type: ignore[arg-type]\u001b[39;49;00m\n\u001b[1;32m   7721\u001b[0m     observed\u001b[39m=\u001b[39;49mobserved,\n\u001b[1;32m   7722\u001b[0m     dropna\u001b[39m=\u001b[39;49mdropna,\n\u001b[1;32m   7723\u001b[0m )\n",
      "File \u001b[0;32m~/opt/anaconda3/envs/dev/lib/python3.9/site-packages/pandas/core/groupby/groupby.py:882\u001b[0m, in \u001b[0;36mGroupBy.__init__\u001b[0;34m(self, obj, keys, axis, level, grouper, exclusions, selection, as_index, sort, group_keys, squeeze, observed, mutated, dropna)\u001b[0m\n\u001b[1;32m    879\u001b[0m \u001b[39mif\u001b[39;00m grouper \u001b[39mis\u001b[39;00m \u001b[39mNone\u001b[39;00m:\n\u001b[1;32m    880\u001b[0m     \u001b[39mfrom\u001b[39;00m \u001b[39mpandas\u001b[39;00m\u001b[39m.\u001b[39;00m\u001b[39mcore\u001b[39;00m\u001b[39m.\u001b[39;00m\u001b[39mgroupby\u001b[39;00m\u001b[39m.\u001b[39;00m\u001b[39mgrouper\u001b[39;00m \u001b[39mimport\u001b[39;00m get_grouper\n\u001b[0;32m--> 882\u001b[0m     grouper, exclusions, obj \u001b[39m=\u001b[39m get_grouper(\n\u001b[1;32m    883\u001b[0m         obj,\n\u001b[1;32m    884\u001b[0m         keys,\n\u001b[1;32m    885\u001b[0m         axis\u001b[39m=\u001b[39;49maxis,\n\u001b[1;32m    886\u001b[0m         level\u001b[39m=\u001b[39;49mlevel,\n\u001b[1;32m    887\u001b[0m         sort\u001b[39m=\u001b[39;49msort,\n\u001b[1;32m    888\u001b[0m         observed\u001b[39m=\u001b[39;49mobserved,\n\u001b[1;32m    889\u001b[0m         mutated\u001b[39m=\u001b[39;49m\u001b[39mself\u001b[39;49m\u001b[39m.\u001b[39;49mmutated,\n\u001b[1;32m    890\u001b[0m         dropna\u001b[39m=\u001b[39;49m\u001b[39mself\u001b[39;49m\u001b[39m.\u001b[39;49mdropna,\n\u001b[1;32m    891\u001b[0m     )\n\u001b[1;32m    893\u001b[0m \u001b[39mself\u001b[39m\u001b[39m.\u001b[39mobj \u001b[39m=\u001b[39m obj\n\u001b[1;32m    894\u001b[0m \u001b[39mself\u001b[39m\u001b[39m.\u001b[39maxis \u001b[39m=\u001b[39m obj\u001b[39m.\u001b[39m_get_axis_number(axis)\n",
      "File \u001b[0;32m~/opt/anaconda3/envs/dev/lib/python3.9/site-packages/pandas/core/groupby/grouper.py:882\u001b[0m, in \u001b[0;36mget_grouper\u001b[0;34m(obj, key, axis, level, sort, observed, mutated, validate, dropna)\u001b[0m\n\u001b[1;32m    880\u001b[0m         in_axis, level, gpr \u001b[39m=\u001b[39m \u001b[39mFalse\u001b[39;00m, gpr, \u001b[39mNone\u001b[39;00m\n\u001b[1;32m    881\u001b[0m     \u001b[39melse\u001b[39;00m:\n\u001b[0;32m--> 882\u001b[0m         \u001b[39mraise\u001b[39;00m \u001b[39mKeyError\u001b[39;00m(gpr)\n\u001b[1;32m    883\u001b[0m \u001b[39melif\u001b[39;00m \u001b[39misinstance\u001b[39m(gpr, Grouper) \u001b[39mand\u001b[39;00m gpr\u001b[39m.\u001b[39mkey \u001b[39mis\u001b[39;00m \u001b[39mnot\u001b[39;00m \u001b[39mNone\u001b[39;00m:\n\u001b[1;32m    884\u001b[0m     \u001b[39m# Add key to exclusions\u001b[39;00m\n\u001b[1;32m    885\u001b[0m     exclusions\u001b[39m.\u001b[39madd(gpr\u001b[39m.\u001b[39mkey)\n",
      "\u001b[0;31mKeyError\u001b[0m: 'neighborhood'"
     ]
    }
   ],
   "source": [
    "# Group by year and neighborhood and then create a new dataframe of the mean values\n",
    "#prices_by_year_by_neighborhood = sfo_data_df.groupby(['year','neighborhood'])['sale_price_sqr_foot'].mean()\n",
    "prices_by_year_by_neighborhood = housing_units_by_year.groupby('neighborhood').mean()\n",
    "# Review the DataFrame\n",
    "prices_by_year_by_neighborhood.head()\n",
    "\n"
   ]
  },
  {
   "cell_type": "markdown",
   "metadata": {},
   "source": [
    "### Step 2: Filter out the “housing_units” column to create a DataFrame that includes only the `sale_price_sqr_foot` and `gross_rent` averages per year."
   ]
  },
  {
   "cell_type": "code",
   "execution_count": 89,
   "metadata": {},
   "outputs": [
    {
     "ename": "AttributeError",
     "evalue": "'DataFrameGroupBy' object has no attribute 'drop'",
     "output_type": "error",
     "traceback": [
      "\u001b[0;31m---------------------------------------------------------------------------\u001b[0m",
      "\u001b[0;31mAttributeError\u001b[0m                            Traceback (most recent call last)",
      "\u001b[1;32m/Users/michaeldionne/Documents/GitHub/Fintech-Workspace/Module 6/Module-6-Challenge/san_francisco_housing.ipynb Cell 32\u001b[0m in \u001b[0;36m<cell line: 2>\u001b[0;34m()\u001b[0m\n\u001b[1;32m      <a href='vscode-notebook-cell:/Users/michaeldionne/Documents/GitHub/Fintech-Workspace/Module%206/Module-6-Challenge/san_francisco_housing.ipynb#ch0000029?line=0'>1</a>\u001b[0m \u001b[39m# Filter out the housing_units\u001b[39;00m\n\u001b[0;32m----> <a href='vscode-notebook-cell:/Users/michaeldionne/Documents/GitHub/Fintech-Workspace/Module%206/Module-6-Challenge/san_francisco_housing.ipynb#ch0000029?line=1'>2</a>\u001b[0m prices_by_year_by_neighborhood \u001b[39m=\u001b[39m prices_by_year_by_neighborhood\u001b[39m.\u001b[39;49mdrop(columns\u001b[39m=\u001b[39m[\u001b[39m'\u001b[39m\u001b[39mhousing_units\u001b[39m\u001b[39m'\u001b[39m])\n\u001b[1;32m      <a href='vscode-notebook-cell:/Users/michaeldionne/Documents/GitHub/Fintech-Workspace/Module%206/Module-6-Challenge/san_francisco_housing.ipynb#ch0000029?line=3'>4</a>\u001b[0m \u001b[39m# Review the first and last five rows of the DataFrame\u001b[39;00m\n\u001b[1;32m      <a href='vscode-notebook-cell:/Users/michaeldionne/Documents/GitHub/Fintech-Workspace/Module%206/Module-6-Challenge/san_francisco_housing.ipynb#ch0000029?line=4'>5</a>\u001b[0m display(prices_by_year_by_neighborhood\u001b[39m.\u001b[39mhead())\n",
      "File \u001b[0;32m~/opt/anaconda3/envs/dev/lib/python3.9/site-packages/pandas/core/groupby/groupby.py:904\u001b[0m, in \u001b[0;36mGroupBy.__getattr__\u001b[0;34m(self, attr)\u001b[0m\n\u001b[1;32m    901\u001b[0m \u001b[39mif\u001b[39;00m attr \u001b[39min\u001b[39;00m \u001b[39mself\u001b[39m\u001b[39m.\u001b[39mobj:\n\u001b[1;32m    902\u001b[0m     \u001b[39mreturn\u001b[39;00m \u001b[39mself\u001b[39m[attr]\n\u001b[0;32m--> 904\u001b[0m \u001b[39mraise\u001b[39;00m \u001b[39mAttributeError\u001b[39;00m(\n\u001b[1;32m    905\u001b[0m     \u001b[39mf\u001b[39m\u001b[39m\"\u001b[39m\u001b[39m'\u001b[39m\u001b[39m{\u001b[39;00m\u001b[39mtype\u001b[39m(\u001b[39mself\u001b[39m)\u001b[39m.\u001b[39m\u001b[39m__name__\u001b[39m\u001b[39m}\u001b[39;00m\u001b[39m'\u001b[39m\u001b[39m object has no attribute \u001b[39m\u001b[39m'\u001b[39m\u001b[39m{\u001b[39;00mattr\u001b[39m}\u001b[39;00m\u001b[39m'\u001b[39m\u001b[39m\"\u001b[39m\n\u001b[1;32m    906\u001b[0m )\n",
      "\u001b[0;31mAttributeError\u001b[0m: 'DataFrameGroupBy' object has no attribute 'drop'"
     ]
    }
   ],
   "source": [
    "# Filter out the housing_units\n",
    "prices_by_year_by_neighborhood = prices_by_year_by_neighborhood.drop(columns=['housing_units'])\n",
    "\n",
    "# Review the first and last five rows of the DataFrame\n",
    "display(prices_by_year_by_neighborhood.head())\n",
    "display(prices_by_year_by_neighborhood.tail())\n"
   ]
  },
  {
   "cell_type": "markdown",
   "metadata": {},
   "source": [
    "### Step 3: Create an interactive line plot with hvPlot that visualizes both `sale_price_sqr_foot` and `gross_rent`. Set the x-axis parameter to the year (`x=\"year\"`). Use the `groupby` parameter to create an interactive widget for `neighborhood`.\n",
    "\n",
    "### Step 4: Style and format the line plot to ensure a professionally styled visualization."
   ]
  },
  {
   "cell_type": "code",
   "execution_count": null,
   "metadata": {},
   "outputs": [
    {
     "name": "stderr",
     "output_type": "stream",
     "text": [
      "WARNING:param.dynamic_operation: Callable raised \"DataError(\"Supplied data does not contain specified dimensions, the following dimensions were not found: ['gross_rentsale_price_sqr_foot']\\n\\nPandasInterface expects tabular data, for more information on supported datatypes see http://holoviews.org/user_guide/Tabular_Datasets.html\")\".\n",
      "Invoked as dynamic_operation('Alamo Square')\n"
     ]
    },
    {
     "ename": "DataError",
     "evalue": "Supplied data does not contain specified dimensions, the following dimensions were not found: ['gross_rentsale_price_sqr_foot']\n\nPandasInterface expects tabular data, for more information on supported datatypes see http://holoviews.org/user_guide/Tabular_Datasets.html",
     "output_type": "error",
     "traceback": [
      "\u001b[0;31m---------------------------------------------------------------------------\u001b[0m",
      "\u001b[0;31mDataError\u001b[0m                                 Traceback (most recent call last)",
      "File \u001b[0;32m~/opt/anaconda3/envs/dev/lib/python3.9/site-packages/IPython/core/formatters.py:973\u001b[0m, in \u001b[0;36mMimeBundleFormatter.__call__\u001b[0;34m(self, obj, include, exclude)\u001b[0m\n\u001b[1;32m    970\u001b[0m     method \u001b[39m=\u001b[39m get_real_method(obj, \u001b[39mself\u001b[39m\u001b[39m.\u001b[39mprint_method)\n\u001b[1;32m    972\u001b[0m     \u001b[39mif\u001b[39;00m method \u001b[39mis\u001b[39;00m \u001b[39mnot\u001b[39;00m \u001b[39mNone\u001b[39;00m:\n\u001b[0;32m--> 973\u001b[0m         \u001b[39mreturn\u001b[39;00m method(include\u001b[39m=\u001b[39;49minclude, exclude\u001b[39m=\u001b[39;49mexclude)\n\u001b[1;32m    974\u001b[0m     \u001b[39mreturn\u001b[39;00m \u001b[39mNone\u001b[39;00m\n\u001b[1;32m    975\u001b[0m \u001b[39melse\u001b[39;00m:\n",
      "File \u001b[0;32m~/opt/anaconda3/envs/dev/lib/python3.9/site-packages/holoviews/core/dimension.py:1316\u001b[0m, in \u001b[0;36mDimensioned._repr_mimebundle_\u001b[0;34m(self, include, exclude)\u001b[0m\n\u001b[1;32m   1309\u001b[0m \u001b[39mdef\u001b[39;00m \u001b[39m_repr_mimebundle_\u001b[39m(\u001b[39mself\u001b[39m, include\u001b[39m=\u001b[39m\u001b[39mNone\u001b[39;00m, exclude\u001b[39m=\u001b[39m\u001b[39mNone\u001b[39;00m):\n\u001b[1;32m   1310\u001b[0m     \u001b[39m\"\"\"\u001b[39;00m\n\u001b[1;32m   1311\u001b[0m \u001b[39m    Resolves the class hierarchy for the class rendering the\u001b[39;00m\n\u001b[1;32m   1312\u001b[0m \u001b[39m    object using any display hooks registered on Store.display\u001b[39;00m\n\u001b[1;32m   1313\u001b[0m \u001b[39m    hooks.  The output of all registered display_hooks is then\u001b[39;00m\n\u001b[1;32m   1314\u001b[0m \u001b[39m    combined and returned.\u001b[39;00m\n\u001b[1;32m   1315\u001b[0m \u001b[39m    \"\"\"\u001b[39;00m\n\u001b[0;32m-> 1316\u001b[0m     \u001b[39mreturn\u001b[39;00m Store\u001b[39m.\u001b[39;49mrender(\u001b[39mself\u001b[39;49m)\n",
      "File \u001b[0;32m~/opt/anaconda3/envs/dev/lib/python3.9/site-packages/holoviews/core/options.py:1405\u001b[0m, in \u001b[0;36mStore.render\u001b[0;34m(cls, obj)\u001b[0m\n\u001b[1;32m   1403\u001b[0m data, metadata \u001b[39m=\u001b[39m {}, {}\n\u001b[1;32m   1404\u001b[0m \u001b[39mfor\u001b[39;00m hook \u001b[39min\u001b[39;00m hooks:\n\u001b[0;32m-> 1405\u001b[0m     ret \u001b[39m=\u001b[39m hook(obj)\n\u001b[1;32m   1406\u001b[0m     \u001b[39mif\u001b[39;00m ret \u001b[39mis\u001b[39;00m \u001b[39mNone\u001b[39;00m:\n\u001b[1;32m   1407\u001b[0m         \u001b[39mcontinue\u001b[39;00m\n",
      "File \u001b[0;32m~/opt/anaconda3/envs/dev/lib/python3.9/site-packages/holoviews/ipython/display_hooks.py:282\u001b[0m, in \u001b[0;36mpprint_display\u001b[0;34m(obj)\u001b[0m\n\u001b[1;32m    280\u001b[0m \u001b[39mif\u001b[39;00m \u001b[39mnot\u001b[39;00m ip\u001b[39m.\u001b[39mdisplay_formatter\u001b[39m.\u001b[39mformatters[\u001b[39m'\u001b[39m\u001b[39mtext/plain\u001b[39m\u001b[39m'\u001b[39m]\u001b[39m.\u001b[39mpprint:\n\u001b[1;32m    281\u001b[0m     \u001b[39mreturn\u001b[39;00m \u001b[39mNone\u001b[39;00m\n\u001b[0;32m--> 282\u001b[0m \u001b[39mreturn\u001b[39;00m display(obj, raw_output\u001b[39m=\u001b[39;49m\u001b[39mTrue\u001b[39;49;00m)\n",
      "File \u001b[0;32m~/opt/anaconda3/envs/dev/lib/python3.9/site-packages/holoviews/ipython/display_hooks.py:258\u001b[0m, in \u001b[0;36mdisplay\u001b[0;34m(obj, raw_output, **kwargs)\u001b[0m\n\u001b[1;32m    256\u001b[0m \u001b[39melif\u001b[39;00m \u001b[39misinstance\u001b[39m(obj, (HoloMap, DynamicMap)):\n\u001b[1;32m    257\u001b[0m     \u001b[39mwith\u001b[39;00m option_state(obj):\n\u001b[0;32m--> 258\u001b[0m         output \u001b[39m=\u001b[39m map_display(obj)\n\u001b[1;32m    259\u001b[0m \u001b[39melif\u001b[39;00m \u001b[39misinstance\u001b[39m(obj, Plot):\n\u001b[1;32m    260\u001b[0m     output \u001b[39m=\u001b[39m render(obj)\n",
      "File \u001b[0;32m~/opt/anaconda3/envs/dev/lib/python3.9/site-packages/holoviews/ipython/display_hooks.py:146\u001b[0m, in \u001b[0;36mdisplay_hook.<locals>.wrapped\u001b[0;34m(element)\u001b[0m\n\u001b[1;32m    144\u001b[0m \u001b[39mtry\u001b[39;00m:\n\u001b[1;32m    145\u001b[0m     max_frames \u001b[39m=\u001b[39m OutputSettings\u001b[39m.\u001b[39moptions[\u001b[39m'\u001b[39m\u001b[39mmax_frames\u001b[39m\u001b[39m'\u001b[39m]\n\u001b[0;32m--> 146\u001b[0m     mimebundle \u001b[39m=\u001b[39m fn(element, max_frames\u001b[39m=\u001b[39;49mmax_frames)\n\u001b[1;32m    147\u001b[0m     \u001b[39mif\u001b[39;00m mimebundle \u001b[39mis\u001b[39;00m \u001b[39mNone\u001b[39;00m:\n\u001b[1;32m    148\u001b[0m         \u001b[39mreturn\u001b[39;00m {}, {}\n",
      "File \u001b[0;32m~/opt/anaconda3/envs/dev/lib/python3.9/site-packages/holoviews/ipython/display_hooks.py:206\u001b[0m, in \u001b[0;36mmap_display\u001b[0;34m(vmap, max_frames)\u001b[0m\n\u001b[1;32m    203\u001b[0m     max_frame_warning(max_frames)\n\u001b[1;32m    204\u001b[0m     \u001b[39mreturn\u001b[39;00m \u001b[39mNone\u001b[39;00m\n\u001b[0;32m--> 206\u001b[0m \u001b[39mreturn\u001b[39;00m render(vmap)\n",
      "File \u001b[0;32m~/opt/anaconda3/envs/dev/lib/python3.9/site-packages/holoviews/ipython/display_hooks.py:68\u001b[0m, in \u001b[0;36mrender\u001b[0;34m(obj, **kwargs)\u001b[0m\n\u001b[1;32m     65\u001b[0m \u001b[39mif\u001b[39;00m renderer\u001b[39m.\u001b[39mfig \u001b[39m==\u001b[39m \u001b[39m'\u001b[39m\u001b[39mpdf\u001b[39m\u001b[39m'\u001b[39m:\n\u001b[1;32m     66\u001b[0m     renderer \u001b[39m=\u001b[39m renderer\u001b[39m.\u001b[39minstance(fig\u001b[39m=\u001b[39m\u001b[39m'\u001b[39m\u001b[39mpng\u001b[39m\u001b[39m'\u001b[39m)\n\u001b[0;32m---> 68\u001b[0m \u001b[39mreturn\u001b[39;00m renderer\u001b[39m.\u001b[39;49mcomponents(obj, \u001b[39m*\u001b[39;49m\u001b[39m*\u001b[39;49mkwargs)\n",
      "File \u001b[0;32m~/opt/anaconda3/envs/dev/lib/python3.9/site-packages/holoviews/plotting/renderer.py:410\u001b[0m, in \u001b[0;36mRenderer.components\u001b[0;34m(self, obj, fmt, comm, **kwargs)\u001b[0m\n\u001b[1;32m    408\u001b[0m doc \u001b[39m=\u001b[39m Document()\n\u001b[1;32m    409\u001b[0m \u001b[39mwith\u001b[39;00m config\u001b[39m.\u001b[39mset(embed\u001b[39m=\u001b[39membed):\n\u001b[0;32m--> 410\u001b[0m     model \u001b[39m=\u001b[39m plot\u001b[39m.\u001b[39;49mlayout\u001b[39m.\u001b[39;49m_render_model(doc, comm)\n\u001b[1;32m    411\u001b[0m \u001b[39mif\u001b[39;00m embed:\n\u001b[1;32m    412\u001b[0m     \u001b[39mreturn\u001b[39;00m render_model(model, comm)\n",
      "File \u001b[0;32m~/opt/anaconda3/envs/dev/lib/python3.9/site-packages/panel/viewable.py:460\u001b[0m, in \u001b[0;36mRenderable._render_model\u001b[0;34m(self, doc, comm)\u001b[0m\n\u001b[1;32m    458\u001b[0m \u001b[39mif\u001b[39;00m comm \u001b[39mis\u001b[39;00m \u001b[39mNone\u001b[39;00m:\n\u001b[1;32m    459\u001b[0m     comm \u001b[39m=\u001b[39m state\u001b[39m.\u001b[39m_comm_manager\u001b[39m.\u001b[39mget_server_comm()\n\u001b[0;32m--> 460\u001b[0m model \u001b[39m=\u001b[39m \u001b[39mself\u001b[39;49m\u001b[39m.\u001b[39;49mget_root(doc, comm)\n\u001b[1;32m    462\u001b[0m \u001b[39mif\u001b[39;00m config\u001b[39m.\u001b[39membed:\n\u001b[1;32m    463\u001b[0m     embed_state(\u001b[39mself\u001b[39m, model, doc,\n\u001b[1;32m    464\u001b[0m                 json\u001b[39m=\u001b[39mconfig\u001b[39m.\u001b[39membed_json,\n\u001b[1;32m    465\u001b[0m                 json_prefix\u001b[39m=\u001b[39mconfig\u001b[39m.\u001b[39membed_json_prefix,\n\u001b[1;32m    466\u001b[0m                 save_path\u001b[39m=\u001b[39mconfig\u001b[39m.\u001b[39membed_save_path,\n\u001b[1;32m    467\u001b[0m                 load_path\u001b[39m=\u001b[39mconfig\u001b[39m.\u001b[39membed_load_path,\n\u001b[1;32m    468\u001b[0m                 progress\u001b[39m=\u001b[39m\u001b[39mFalse\u001b[39;00m)\n",
      "File \u001b[0;32m~/opt/anaconda3/envs/dev/lib/python3.9/site-packages/panel/viewable.py:518\u001b[0m, in \u001b[0;36mRenderable.get_root\u001b[0;34m(self, doc, comm, preprocess)\u001b[0m\n\u001b[1;32m    501\u001b[0m \u001b[39m\"\"\"\u001b[39;00m\n\u001b[1;32m    502\u001b[0m \u001b[39mReturns the root model and applies pre-processing hooks\u001b[39;00m\n\u001b[1;32m    503\u001b[0m \n\u001b[0;32m   (...)\u001b[0m\n\u001b[1;32m    515\u001b[0m \u001b[39mReturns the bokeh model corresponding to this panel object\u001b[39;00m\n\u001b[1;32m    516\u001b[0m \u001b[39m\"\"\"\u001b[39;00m\n\u001b[1;32m    517\u001b[0m doc \u001b[39m=\u001b[39m init_doc(doc)\n\u001b[0;32m--> 518\u001b[0m root \u001b[39m=\u001b[39m \u001b[39mself\u001b[39;49m\u001b[39m.\u001b[39;49m_get_model(doc, comm\u001b[39m=\u001b[39;49mcomm)\n\u001b[1;32m    519\u001b[0m \u001b[39mif\u001b[39;00m preprocess:\n\u001b[1;32m    520\u001b[0m     \u001b[39mself\u001b[39m\u001b[39m.\u001b[39m_preprocess(root)\n",
      "File \u001b[0;32m~/opt/anaconda3/envs/dev/lib/python3.9/site-packages/panel/layout/base.py:122\u001b[0m, in \u001b[0;36mPanel._get_model\u001b[0;34m(self, doc, root, parent, comm)\u001b[0m\n\u001b[1;32m    120\u001b[0m \u001b[39mif\u001b[39;00m root \u001b[39mis\u001b[39;00m \u001b[39mNone\u001b[39;00m:\n\u001b[1;32m    121\u001b[0m     root \u001b[39m=\u001b[39m model\n\u001b[0;32m--> 122\u001b[0m objects \u001b[39m=\u001b[39m \u001b[39mself\u001b[39;49m\u001b[39m.\u001b[39;49m_get_objects(model, [], doc, root, comm)\n\u001b[1;32m    123\u001b[0m props \u001b[39m=\u001b[39m \u001b[39mdict\u001b[39m(\u001b[39mself\u001b[39m\u001b[39m.\u001b[39m_init_params(), objects\u001b[39m=\u001b[39mobjects)\n\u001b[1;32m    124\u001b[0m model\u001b[39m.\u001b[39mupdate(\u001b[39m*\u001b[39m\u001b[39m*\u001b[39m\u001b[39mself\u001b[39m\u001b[39m.\u001b[39m_process_param_change(props))\n",
      "File \u001b[0;32m~/opt/anaconda3/envs/dev/lib/python3.9/site-packages/panel/layout/base.py:112\u001b[0m, in \u001b[0;36mPanel._get_objects\u001b[0;34m(self, model, old_objects, doc, root, comm)\u001b[0m\n\u001b[1;32m    110\u001b[0m \u001b[39melse\u001b[39;00m:\n\u001b[1;32m    111\u001b[0m     \u001b[39mtry\u001b[39;00m:\n\u001b[0;32m--> 112\u001b[0m         child \u001b[39m=\u001b[39m pane\u001b[39m.\u001b[39;49m_get_model(doc, root, model, comm)\n\u001b[1;32m    113\u001b[0m     \u001b[39mexcept\u001b[39;00m RerenderError:\n\u001b[1;32m    114\u001b[0m         \u001b[39mreturn\u001b[39;00m \u001b[39mself\u001b[39m\u001b[39m.\u001b[39m_get_objects(model, current_objects[:i], doc, root, comm)\n",
      "File \u001b[0;32m~/opt/anaconda3/envs/dev/lib/python3.9/site-packages/panel/pane/holoviews.py:248\u001b[0m, in \u001b[0;36mHoloViews._get_model\u001b[0;34m(self, doc, root, parent, comm)\u001b[0m\n\u001b[1;32m    246\u001b[0m     plot \u001b[39m=\u001b[39m \u001b[39mself\u001b[39m\u001b[39m.\u001b[39mobject\n\u001b[1;32m    247\u001b[0m \u001b[39melse\u001b[39;00m:\n\u001b[0;32m--> 248\u001b[0m     plot \u001b[39m=\u001b[39m \u001b[39mself\u001b[39;49m\u001b[39m.\u001b[39;49m_render(doc, comm, root)\n\u001b[1;32m    250\u001b[0m plot\u001b[39m.\u001b[39mpane \u001b[39m=\u001b[39m \u001b[39mself\u001b[39m\n\u001b[1;32m    251\u001b[0m backend \u001b[39m=\u001b[39m plot\u001b[39m.\u001b[39mrenderer\u001b[39m.\u001b[39mbackend\n",
      "File \u001b[0;32m~/opt/anaconda3/envs/dev/lib/python3.9/site-packages/panel/pane/holoviews.py:321\u001b[0m, in \u001b[0;36mHoloViews._render\u001b[0;34m(self, doc, comm, root)\u001b[0m\n\u001b[1;32m    318\u001b[0m     \u001b[39mif\u001b[39;00m comm:\n\u001b[1;32m    319\u001b[0m         kwargs[\u001b[39m'\u001b[39m\u001b[39mcomm\u001b[39m\u001b[39m'\u001b[39m] \u001b[39m=\u001b[39m comm\n\u001b[0;32m--> 321\u001b[0m \u001b[39mreturn\u001b[39;00m renderer\u001b[39m.\u001b[39;49mget_plot(\u001b[39mself\u001b[39;49m\u001b[39m.\u001b[39;49mobject, \u001b[39m*\u001b[39;49m\u001b[39m*\u001b[39;49mkwargs)\n",
      "File \u001b[0;32m~/opt/anaconda3/envs/dev/lib/python3.9/site-packages/holoviews/plotting/bokeh/renderer.py:73\u001b[0m, in \u001b[0;36mBokehRenderer.get_plot\u001b[0;34m(self_or_cls, obj, doc, renderer, **kwargs)\u001b[0m\n\u001b[1;32m     66\u001b[0m \u001b[39m@bothmethod\u001b[39m\n\u001b[1;32m     67\u001b[0m \u001b[39mdef\u001b[39;00m \u001b[39mget_plot\u001b[39m(self_or_cls, obj, doc\u001b[39m=\u001b[39m\u001b[39mNone\u001b[39;00m, renderer\u001b[39m=\u001b[39m\u001b[39mNone\u001b[39;00m, \u001b[39m*\u001b[39m\u001b[39m*\u001b[39mkwargs):\n\u001b[1;32m     68\u001b[0m     \u001b[39m\"\"\"\u001b[39;00m\n\u001b[1;32m     69\u001b[0m \u001b[39m    Given a HoloViews Viewable return a corresponding plot instance.\u001b[39;00m\n\u001b[1;32m     70\u001b[0m \u001b[39m    Allows supplying a document attach the plot to, useful when\u001b[39;00m\n\u001b[1;32m     71\u001b[0m \u001b[39m    combining the bokeh model with another plot.\u001b[39;00m\n\u001b[1;32m     72\u001b[0m \u001b[39m    \"\"\"\u001b[39;00m\n\u001b[0;32m---> 73\u001b[0m     plot \u001b[39m=\u001b[39m \u001b[39msuper\u001b[39;49m(BokehRenderer, self_or_cls)\u001b[39m.\u001b[39;49mget_plot(obj, doc, renderer, \u001b[39m*\u001b[39;49m\u001b[39m*\u001b[39;49mkwargs)\n\u001b[1;32m     74\u001b[0m     \u001b[39mif\u001b[39;00m plot\u001b[39m.\u001b[39mdocument \u001b[39mis\u001b[39;00m \u001b[39mNone\u001b[39;00m:\n\u001b[1;32m     75\u001b[0m         plot\u001b[39m.\u001b[39mdocument \u001b[39m=\u001b[39m Document() \u001b[39mif\u001b[39;00m self_or_cls\u001b[39m.\u001b[39mnotebook_context \u001b[39melse\u001b[39;00m curdoc()\n",
      "File \u001b[0;32m~/opt/anaconda3/envs/dev/lib/python3.9/site-packages/holoviews/plotting/renderer.py:220\u001b[0m, in \u001b[0;36mRenderer.get_plot\u001b[0;34m(self_or_cls, obj, doc, renderer, comm, **kwargs)\u001b[0m\n\u001b[1;32m    217\u001b[0m     \u001b[39mraise\u001b[39;00m SkipRendering(msg\u001b[39m.\u001b[39mformat(dims\u001b[39m=\u001b[39mdims))\n\u001b[1;32m    219\u001b[0m \u001b[39m# Initialize DynamicMaps with first data item\u001b[39;00m\n\u001b[0;32m--> 220\u001b[0m initialize_dynamic(obj)\n\u001b[1;32m    222\u001b[0m \u001b[39mif\u001b[39;00m \u001b[39mnot\u001b[39;00m renderer:\n\u001b[1;32m    223\u001b[0m     renderer \u001b[39m=\u001b[39m self_or_cls\n",
      "File \u001b[0;32m~/opt/anaconda3/envs/dev/lib/python3.9/site-packages/holoviews/plotting/util.py:254\u001b[0m, in \u001b[0;36minitialize_dynamic\u001b[0;34m(obj)\u001b[0m\n\u001b[1;32m    252\u001b[0m     \u001b[39mcontinue\u001b[39;00m\n\u001b[1;32m    253\u001b[0m \u001b[39mif\u001b[39;00m \u001b[39mnot\u001b[39;00m \u001b[39mlen\u001b[39m(dmap):\n\u001b[0;32m--> 254\u001b[0m     dmap[dmap\u001b[39m.\u001b[39;49m_initial_key()]\n",
      "File \u001b[0;32m~/opt/anaconda3/envs/dev/lib/python3.9/site-packages/holoviews/core/spaces.py:1344\u001b[0m, in \u001b[0;36mDynamicMap.__getitem__\u001b[0;34m(self, key)\u001b[0m\n\u001b[1;32m   1342\u001b[0m \u001b[39m# Not a cross product and nothing cached so compute element.\u001b[39;00m\n\u001b[1;32m   1343\u001b[0m \u001b[39mif\u001b[39;00m cache \u001b[39mis\u001b[39;00m \u001b[39mnot\u001b[39;00m \u001b[39mNone\u001b[39;00m: \u001b[39mreturn\u001b[39;00m cache\n\u001b[0;32m-> 1344\u001b[0m val \u001b[39m=\u001b[39m \u001b[39mself\u001b[39;49m\u001b[39m.\u001b[39;49m_execute_callback(\u001b[39m*\u001b[39;49mtuple_key)\n\u001b[1;32m   1345\u001b[0m \u001b[39mif\u001b[39;00m data_slice:\n\u001b[1;32m   1346\u001b[0m     val \u001b[39m=\u001b[39m \u001b[39mself\u001b[39m\u001b[39m.\u001b[39m_dataslice(val, data_slice)\n",
      "File \u001b[0;32m~/opt/anaconda3/envs/dev/lib/python3.9/site-packages/holoviews/core/spaces.py:1111\u001b[0m, in \u001b[0;36mDynamicMap._execute_callback\u001b[0;34m(self, *args)\u001b[0m\n\u001b[1;32m   1108\u001b[0m     kwargs[\u001b[39m'\u001b[39m\u001b[39m_memoization_hash_\u001b[39m\u001b[39m'\u001b[39m] \u001b[39m=\u001b[39m hash_items\n\u001b[1;32m   1110\u001b[0m \u001b[39mwith\u001b[39;00m dynamicmap_memoization(\u001b[39mself\u001b[39m\u001b[39m.\u001b[39mcallback, \u001b[39mself\u001b[39m\u001b[39m.\u001b[39mstreams):\n\u001b[0;32m-> 1111\u001b[0m     retval \u001b[39m=\u001b[39m \u001b[39mself\u001b[39;49m\u001b[39m.\u001b[39;49mcallback(\u001b[39m*\u001b[39;49margs, \u001b[39m*\u001b[39;49m\u001b[39m*\u001b[39;49mkwargs)\n\u001b[1;32m   1112\u001b[0m \u001b[39mreturn\u001b[39;00m \u001b[39mself\u001b[39m\u001b[39m.\u001b[39m_style(retval)\n",
      "File \u001b[0;32m~/opt/anaconda3/envs/dev/lib/python3.9/site-packages/holoviews/core/spaces.py:708\u001b[0m, in \u001b[0;36mCallable.__call__\u001b[0;34m(self, *args, **kwargs)\u001b[0m\n\u001b[1;32m    705\u001b[0m     args, kwargs \u001b[39m=\u001b[39m (), \u001b[39mdict\u001b[39m(pos_kwargs, \u001b[39m*\u001b[39m\u001b[39m*\u001b[39mkwargs)\n\u001b[1;32m    707\u001b[0m \u001b[39mtry\u001b[39;00m:\n\u001b[0;32m--> 708\u001b[0m     ret \u001b[39m=\u001b[39m \u001b[39mself\u001b[39;49m\u001b[39m.\u001b[39;49mcallable(\u001b[39m*\u001b[39;49margs, \u001b[39m*\u001b[39;49m\u001b[39m*\u001b[39;49mkwargs)\n\u001b[1;32m    709\u001b[0m \u001b[39mexcept\u001b[39;00m \u001b[39mKeyError\u001b[39;00m:\n\u001b[1;32m    710\u001b[0m     \u001b[39m# KeyError is caught separately because it is used to signal\u001b[39;00m\n\u001b[1;32m    711\u001b[0m     \u001b[39m# invalid keys on DynamicMap and should not warn\u001b[39;00m\n\u001b[1;32m    712\u001b[0m     \u001b[39mraise\u001b[39;00m\n",
      "File \u001b[0;32m~/opt/anaconda3/envs/dev/lib/python3.9/site-packages/holoviews/util/__init__.py:1044\u001b[0m, in \u001b[0;36mDynamic._dynamic_operation.<locals>.dynamic_operation\u001b[0;34m(*key, **kwargs)\u001b[0m\n\u001b[1;32m   1042\u001b[0m \u001b[39mdef\u001b[39;00m \u001b[39mdynamic_operation\u001b[39m(\u001b[39m*\u001b[39mkey, \u001b[39m*\u001b[39m\u001b[39m*\u001b[39mkwargs):\n\u001b[1;32m   1043\u001b[0m     key, obj \u001b[39m=\u001b[39m resolve(key, kwargs)\n\u001b[0;32m-> 1044\u001b[0m     \u001b[39mreturn\u001b[39;00m apply(obj, \u001b[39m*\u001b[39;49mkey, \u001b[39m*\u001b[39;49m\u001b[39m*\u001b[39;49mkwargs)\n",
      "File \u001b[0;32m~/opt/anaconda3/envs/dev/lib/python3.9/site-packages/holoviews/util/__init__.py:1036\u001b[0m, in \u001b[0;36mDynamic._dynamic_operation.<locals>.apply\u001b[0;34m(element, *key, **kwargs)\u001b[0m\n\u001b[1;32m   1034\u001b[0m \u001b[39mdef\u001b[39;00m \u001b[39mapply\u001b[39m(element, \u001b[39m*\u001b[39mkey, \u001b[39m*\u001b[39m\u001b[39m*\u001b[39mkwargs):\n\u001b[1;32m   1035\u001b[0m     kwargs \u001b[39m=\u001b[39m \u001b[39mdict\u001b[39m(util\u001b[39m.\u001b[39mresolve_dependent_kwargs(\u001b[39mself\u001b[39m\u001b[39m.\u001b[39mp\u001b[39m.\u001b[39mkwargs), \u001b[39m*\u001b[39m\u001b[39m*\u001b[39mkwargs)\n\u001b[0;32m-> 1036\u001b[0m     processed \u001b[39m=\u001b[39m \u001b[39mself\u001b[39;49m\u001b[39m.\u001b[39;49m_process(element, key, kwargs)\n\u001b[1;32m   1037\u001b[0m     \u001b[39mif\u001b[39;00m (\u001b[39mself\u001b[39m\u001b[39m.\u001b[39mp\u001b[39m.\u001b[39mlink_dataset \u001b[39mand\u001b[39;00m \u001b[39misinstance\u001b[39m(element, Dataset) \u001b[39mand\u001b[39;00m\n\u001b[1;32m   1038\u001b[0m         \u001b[39misinstance\u001b[39m(processed, Dataset) \u001b[39mand\u001b[39;00m processed\u001b[39m.\u001b[39m_dataset \u001b[39mis\u001b[39;00m \u001b[39mNone\u001b[39;00m):\n\u001b[1;32m   1039\u001b[0m         processed\u001b[39m.\u001b[39m_dataset \u001b[39m=\u001b[39m element\u001b[39m.\u001b[39mdataset\n",
      "File \u001b[0;32m~/opt/anaconda3/envs/dev/lib/python3.9/site-packages/holoviews/util/__init__.py:1020\u001b[0m, in \u001b[0;36mDynamic._process\u001b[0;34m(self, element, key, kwargs)\u001b[0m\n\u001b[1;32m   1018\u001b[0m     \u001b[39mreturn\u001b[39;00m \u001b[39mself\u001b[39m\u001b[39m.\u001b[39mp\u001b[39m.\u001b[39moperation\u001b[39m.\u001b[39mprocess_element(element, key, \u001b[39m*\u001b[39m\u001b[39m*\u001b[39mkwargs)\n\u001b[1;32m   1019\u001b[0m \u001b[39melse\u001b[39;00m:\n\u001b[0;32m-> 1020\u001b[0m     \u001b[39mreturn\u001b[39;00m \u001b[39mself\u001b[39;49m\u001b[39m.\u001b[39;49mp\u001b[39m.\u001b[39;49moperation(element, \u001b[39m*\u001b[39;49m\u001b[39m*\u001b[39;49mkwargs)\n",
      "File \u001b[0;32m~/opt/anaconda3/envs/dev/lib/python3.9/site-packages/hvplot/converter.py:1167\u001b[0m, in \u001b[0;36mHoloViewsConverter.__call__.<locals>.method_wrapper\u001b[0;34m(ds, x, y)\u001b[0m\n\u001b[1;32m   1166\u001b[0m \u001b[39mdef\u001b[39;00m \u001b[39mmethod_wrapper\u001b[39m(ds, x, y):\n\u001b[0;32m-> 1167\u001b[0m     el \u001b[39m=\u001b[39m method(x, y, data\u001b[39m=\u001b[39;49mds\u001b[39m.\u001b[39;49mdata)\n\u001b[1;32m   1168\u001b[0m     el\u001b[39m.\u001b[39m_transforms \u001b[39m=\u001b[39m dataset\u001b[39m.\u001b[39m_transforms\n\u001b[1;32m   1169\u001b[0m     el\u001b[39m.\u001b[39m_dataset \u001b[39m=\u001b[39m ds\n",
      "File \u001b[0;32m~/opt/anaconda3/envs/dev/lib/python3.9/site-packages/hvplot/converter.py:1615\u001b[0m, in \u001b[0;36mHoloViewsConverter.line\u001b[0;34m(self, x, y, data)\u001b[0m\n\u001b[1;32m   1613\u001b[0m \u001b[39mdef\u001b[39;00m \u001b[39mline\u001b[39m(\u001b[39mself\u001b[39m, x\u001b[39m=\u001b[39m\u001b[39mNone\u001b[39;00m, y\u001b[39m=\u001b[39m\u001b[39mNone\u001b[39;00m, data\u001b[39m=\u001b[39m\u001b[39mNone\u001b[39;00m):\n\u001b[1;32m   1614\u001b[0m     \u001b[39mself\u001b[39m\u001b[39m.\u001b[39m_error_if_unavailable(\u001b[39m'\u001b[39m\u001b[39mline\u001b[39m\u001b[39m'\u001b[39m)\n\u001b[0;32m-> 1615\u001b[0m     \u001b[39mreturn\u001b[39;00m \u001b[39mself\u001b[39;49m\u001b[39m.\u001b[39;49mchart(Curve, x, y, data)\n",
      "File \u001b[0;32m~/opt/anaconda3/envs/dev/lib/python3.9/site-packages/hvplot/converter.py:1581\u001b[0m, in \u001b[0;36mHoloViewsConverter.chart\u001b[0;34m(self, element, x, y, data)\u001b[0m\n\u001b[1;32m   1579\u001b[0m data, x, y \u001b[39m=\u001b[39m \u001b[39mself\u001b[39m\u001b[39m.\u001b[39m_process_chart_args(data, x, y)\n\u001b[1;32m   1580\u001b[0m \u001b[39mif\u001b[39;00m x \u001b[39mand\u001b[39;00m y \u001b[39mand\u001b[39;00m \u001b[39mnot\u001b[39;00m \u001b[39misinstance\u001b[39m(y, (\u001b[39mlist\u001b[39m, \u001b[39mtuple\u001b[39m)):\n\u001b[0;32m-> 1581\u001b[0m     \u001b[39mreturn\u001b[39;00m \u001b[39mself\u001b[39;49m\u001b[39m.\u001b[39;49msingle_chart(element, x, y, data)\n\u001b[1;32m   1582\u001b[0m \u001b[39melif\u001b[39;00m x \u001b[39mand\u001b[39;00m y \u001b[39mand\u001b[39;00m \u001b[39mlen\u001b[39m(y) \u001b[39m==\u001b[39m \u001b[39m1\u001b[39m:\n\u001b[1;32m   1583\u001b[0m     \u001b[39mreturn\u001b[39;00m \u001b[39mself\u001b[39m\u001b[39m.\u001b[39msingle_chart(element, x, y[\u001b[39m0\u001b[39m], data)\n",
      "File \u001b[0;32m~/opt/anaconda3/envs/dev/lib/python3.9/site-packages/hvplot/converter.py:1503\u001b[0m, in \u001b[0;36mHoloViewsConverter.single_chart\u001b[0;34m(self, element, x, y, data)\u001b[0m\n\u001b[1;32m   1501\u001b[0m     chart \u001b[39m=\u001b[39m chart\u001b[39m.\u001b[39mlayout() \u001b[39mif\u001b[39;00m \u001b[39mself\u001b[39m\u001b[39m.\u001b[39msubplots \u001b[39melse\u001b[39;00m chart\u001b[39m.\u001b[39moverlay(sort\u001b[39m=\u001b[39m\u001b[39mFalse\u001b[39;00m)\n\u001b[1;32m   1502\u001b[0m \u001b[39melse\u001b[39;00m:\n\u001b[0;32m-> 1503\u001b[0m     chart \u001b[39m=\u001b[39m element(data, kdims, vdims)\u001b[39m.\u001b[39mrelabel(\u001b[39m*\u001b[39m\u001b[39m*\u001b[39m\u001b[39mself\u001b[39m\u001b[39m.\u001b[39m_relabel)\n\u001b[1;32m   1504\u001b[0m \u001b[39mreturn\u001b[39;00m (chart\u001b[39m.\u001b[39mredim(\u001b[39m*\u001b[39m\u001b[39m*\u001b[39m\u001b[39mself\u001b[39m\u001b[39m.\u001b[39m_redim)\n\u001b[1;32m   1505\u001b[0m         \u001b[39m.\u001b[39mopts(cur_opts, backend\u001b[39m=\u001b[39m\u001b[39m'\u001b[39m\u001b[39mbokeh\u001b[39m\u001b[39m'\u001b[39m)\n\u001b[1;32m   1506\u001b[0m         \u001b[39m.\u001b[39mopts(compat_opts, backend\u001b[39m=\u001b[39m\u001b[39mself\u001b[39m\u001b[39m.\u001b[39m_backend_compat))\n",
      "File \u001b[0;32m~/opt/anaconda3/envs/dev/lib/python3.9/site-packages/holoviews/element/selection.py:23\u001b[0m, in \u001b[0;36mSelectionIndexExpr.__init__\u001b[0;34m(self, *args, **kwargs)\u001b[0m\n\u001b[1;32m     22\u001b[0m \u001b[39mdef\u001b[39;00m \u001b[39m__init__\u001b[39m(\u001b[39mself\u001b[39m, \u001b[39m*\u001b[39margs, \u001b[39m*\u001b[39m\u001b[39m*\u001b[39mkwargs):\n\u001b[0;32m---> 23\u001b[0m     \u001b[39msuper\u001b[39;49m(SelectionIndexExpr, \u001b[39mself\u001b[39;49m)\u001b[39m.\u001b[39;49m\u001b[39m__init__\u001b[39;49m(\u001b[39m*\u001b[39;49margs, \u001b[39m*\u001b[39;49m\u001b[39m*\u001b[39;49mkwargs)\n\u001b[1;32m     24\u001b[0m     \u001b[39mself\u001b[39m\u001b[39m.\u001b[39m_index_skip \u001b[39m=\u001b[39m \u001b[39mFalse\u001b[39;00m\n",
      "File \u001b[0;32m~/opt/anaconda3/envs/dev/lib/python3.9/site-packages/holoviews/element/chart.py:52\u001b[0m, in \u001b[0;36mChart.__init__\u001b[0;34m(self, data, kdims, vdims, **params)\u001b[0m\n\u001b[1;32m     50\u001b[0m \u001b[39mif\u001b[39;00m \u001b[39mlen\u001b[39m(params\u001b[39m.\u001b[39mget(\u001b[39m'\u001b[39m\u001b[39mkdims\u001b[39m\u001b[39m'\u001b[39m, [])) \u001b[39m==\u001b[39m \u001b[39mself\u001b[39m\u001b[39m.\u001b[39m_max_kdim_count \u001b[39m+\u001b[39m \u001b[39m1\u001b[39m:\n\u001b[1;32m     51\u001b[0m     \u001b[39mself\u001b[39m\u001b[39m.\u001b[39mparam\u001b[39m.\u001b[39mwarning(\u001b[39m'\u001b[39m\u001b[39mChart elements should only be supplied a single kdim\u001b[39m\u001b[39m'\u001b[39m)\n\u001b[0;32m---> 52\u001b[0m \u001b[39msuper\u001b[39;49m(Chart, \u001b[39mself\u001b[39;49m)\u001b[39m.\u001b[39;49m\u001b[39m__init__\u001b[39;49m(data, \u001b[39m*\u001b[39;49m\u001b[39m*\u001b[39;49mparams)\n",
      "File \u001b[0;32m~/opt/anaconda3/envs/dev/lib/python3.9/site-packages/holoviews/core/data/__init__.py:345\u001b[0m, in \u001b[0;36mDataset.__init__\u001b[0;34m(self, data, kdims, vdims, **kwargs)\u001b[0m\n\u001b[1;32m    343\u001b[0m (data, \u001b[39mself\u001b[39m\u001b[39m.\u001b[39minterface, dims, extra_kws) \u001b[39m=\u001b[39m initialized\n\u001b[1;32m    344\u001b[0m \u001b[39msuper\u001b[39m(Dataset, \u001b[39mself\u001b[39m)\u001b[39m.\u001b[39m\u001b[39m__init__\u001b[39m(data, \u001b[39m*\u001b[39m\u001b[39m*\u001b[39m\u001b[39mdict\u001b[39m(kwargs, \u001b[39m*\u001b[39m\u001b[39m*\u001b[39m\u001b[39mdict\u001b[39m(dims, \u001b[39m*\u001b[39m\u001b[39m*\u001b[39mextra_kws)))\n\u001b[0;32m--> 345\u001b[0m \u001b[39mself\u001b[39;49m\u001b[39m.\u001b[39;49minterface\u001b[39m.\u001b[39;49mvalidate(\u001b[39mself\u001b[39;49m, validate_vdims)\n\u001b[1;32m    347\u001b[0m \u001b[39m# Handle _pipeline property\u001b[39;00m\n\u001b[1;32m    348\u001b[0m \u001b[39mif\u001b[39;00m input_pipeline \u001b[39mis\u001b[39;00m \u001b[39mNone\u001b[39;00m:\n",
      "File \u001b[0;32m~/opt/anaconda3/envs/dev/lib/python3.9/site-packages/holoviews/core/data/pandas.py:156\u001b[0m, in \u001b[0;36mPandasInterface.validate\u001b[0;34m(cls, dataset, vdims)\u001b[0m\n\u001b[1;32m    154\u001b[0m not_found \u001b[39m=\u001b[39m [d \u001b[39mfor\u001b[39;00m d \u001b[39min\u001b[39;00m dimensions \u001b[39mif\u001b[39;00m d \u001b[39mnot\u001b[39;00m \u001b[39min\u001b[39;00m cols]\n\u001b[1;32m    155\u001b[0m \u001b[39mif\u001b[39;00m not_found:\n\u001b[0;32m--> 156\u001b[0m     \u001b[39mraise\u001b[39;00m DataError(\u001b[39m\"\u001b[39m\u001b[39mSupplied data does not contain specified \u001b[39m\u001b[39m\"\u001b[39m\n\u001b[1;32m    157\u001b[0m                     \u001b[39m\"\u001b[39m\u001b[39mdimensions, the following dimensions were \u001b[39m\u001b[39m\"\u001b[39m\n\u001b[1;32m    158\u001b[0m                     \u001b[39m\"\u001b[39m\u001b[39mnot found: \u001b[39m\u001b[39m%s\u001b[39;00m\u001b[39m\"\u001b[39m \u001b[39m%\u001b[39m \u001b[39mrepr\u001b[39m(not_found), \u001b[39mcls\u001b[39m)\n",
      "\u001b[0;31mDataError\u001b[0m: Supplied data does not contain specified dimensions, the following dimensions were not found: ['gross_rentsale_price_sqr_foot']\n\nPandasInterface expects tabular data, for more information on supported datatypes see http://holoviews.org/user_guide/Tabular_Datasets.html"
     ]
    },
    {
     "data": {
      "text/plain": [
       ":DynamicMap   [neighborhood]"
      ]
     },
     "execution_count": 61,
     "metadata": {},
     "output_type": "execute_result"
    }
   ],
   "source": [
    "# Use hvplot to create an interactive line plot of the average price per square foot\n",
    "# The plot should have a dropdown selector for the neighborhood\n",
    "from itertools import groupby\n",
    "\n",
    "prices_by_year_by_neighborhood.hvplot(\n",
    "    groupby=\"neighborhood\",\n",
    "    x='year',\n",
    "    xlabel='Year',\n",
    "    y='gross_rent' 'sale_price_sqr_foot', \n",
    "    ylabel=\"Gross Rent/ Sale Price Per Square Foot\",\n",
    "    title='Sale Price Per Square Foot and Average Gross Rent - 2010-2016- By Neighborhood',\n",
    ")\n"
   ]
  },
  {
   "cell_type": "markdown",
   "metadata": {},
   "source": [
    "### Step 6: Use the interactive visualization to answer the following question:"
   ]
  },
  {
   "cell_type": "markdown",
   "metadata": {},
   "source": [
    "**Question:** For the Anza Vista neighborhood, is the average sale price per square foot for 2016 more or less than the price that’s listed for 2012? \n",
    "\n",
    "**Answer:** # YOUR ANSWER HERE"
   ]
  },
  {
   "cell_type": "markdown",
   "metadata": {},
   "source": [
    "---"
   ]
  },
  {
   "cell_type": "markdown",
   "metadata": {},
   "source": [
    "## Build an Interactive Neighborhood Map\n",
    "\n",
    "For this part of the assignment, explore the geospatial relationships in the data by using interactive visualizations with hvPlot and GeoViews. To build your map, use the `sfo_data_df` DataFrame (created during the initial import), which includes the neighborhood location data with the average prices. To do all this, complete the following steps:\n",
    "\n",
    "1. Read the `neighborhood_coordinates.csv` file from the `Resources` folder into the notebook, and create a DataFrame named `neighborhood_locations_df`. Be sure to set the `index_col` of the DataFrame as “Neighborhood”.\n",
    "\n",
    "2. Using the original `sfo_data_df` Dataframe, create a DataFrame named `all_neighborhood_info_df` that groups the data by neighborhood. Aggregate the results by the `mean` of the group.\n",
    "\n",
    "3. Review the two code cells that concatenate the `neighborhood_locations_df` DataFrame with the `all_neighborhood_info_df` DataFrame. Note that the first cell uses the [Pandas concat function](https://pandas.pydata.org/pandas-docs/stable/reference/api/pandas.concat.html) to create a DataFrame named `all_neighborhoods_df`. The second cell cleans the data and sets the “Neighborhood” column. Be sure to run these cells to create the `all_neighborhoods_df` DataFrame, which you’ll need to create the geospatial visualization.\n",
    "\n",
    "4. Using hvPlot with GeoViews enabled, create a `points` plot for the `all_neighborhoods_df` DataFrame. Be sure to do the following:\n",
    "\n",
    "    * Set the `size` parameter to “sale_price_sqr_foot”.\n",
    "\n",
    "    * Set the `color` parameter to “gross_rent”.\n",
    "\n",
    "    * Set the `size_max` parameter to “25”.\n",
    "\n",
    "    * Set the `zoom` parameter to “11”.\n",
    "\n",
    "Note that your resulting plot should appear similar to the following image:\n",
    "\n",
    "![A screenshot depicts an example of a scatter plot created with hvPlot and GeoViews.](Images/6-4-geoviews-plot.png)\n",
    "\n",
    "5. Use the interactive map to answer the following question:\n",
    "\n",
    "    * Which neighborhood has the highest gross rent, and which has the highest sale price per square foot?\n"
   ]
  },
  {
   "cell_type": "markdown",
   "metadata": {},
   "source": [
    "### Step 1: Read the `neighborhood_coordinates.csv` file from the `Resources` folder into the notebook, and create a DataFrame named `neighborhood_locations_df`. Be sure to set the `index_col` of the DataFrame as “Neighborhood”."
   ]
  },
  {
   "cell_type": "code",
   "execution_count": null,
   "metadata": {},
   "outputs": [
    {
     "ename": "SyntaxError",
     "evalue": "invalid syntax (2431271382.py, line 2)",
     "output_type": "error",
     "traceback": [
      "\u001b[0;36m  Input \u001b[0;32mIn [74]\u001b[0;36m\u001b[0m\n\u001b[0;31m    neighborhood_locations_df = # YOUR CODE HERE\u001b[0m\n\u001b[0m                                ^\u001b[0m\n\u001b[0;31mSyntaxError\u001b[0m\u001b[0;31m:\u001b[0m invalid syntax\n"
     ]
    }
   ],
   "source": [
    "# Load neighborhoods coordinates data\n",
    "neighborhood_locations_df = # YOUR CODE HERE\n",
    "\n",
    "# Review the DataFrame\n",
    "# YOUR CODE HERE"
   ]
  },
  {
   "cell_type": "markdown",
   "metadata": {},
   "source": [
    "### Step 2: Using the original `sfo_data_df` Dataframe, create a DataFrame named `all_neighborhood_info_df` that groups the data by neighborhood. Aggregate the results by the `mean` of the group."
   ]
  },
  {
   "cell_type": "code",
   "execution_count": null,
   "metadata": {},
   "outputs": [],
   "source": [
    "# Calculate the mean values for each neighborhood\n",
    "all_neighborhood_info_df = # YOUR CODE HERE\n",
    "\n",
    "# Review the resulting DataFrame\n",
    "# YOUR CODE HERE"
   ]
  },
  {
   "cell_type": "markdown",
   "metadata": {},
   "source": [
    "### Step 3: Review the two code cells that concatenate the `neighborhood_locations_df` DataFrame with the `all_neighborhood_info_df` DataFrame. \n",
    "\n",
    "Note that the first cell uses the [Pandas concat function](https://pandas.pydata.org/pandas-docs/stable/reference/api/pandas.concat.html) to create a DataFrame named `all_neighborhoods_df`. \n",
    "\n",
    "The second cell cleans the data and sets the “Neighborhood” column. \n",
    "\n",
    "Be sure to run these cells to create the `all_neighborhoods_df` DataFrame, which you’ll need to create the geospatial visualization."
   ]
  },
  {
   "cell_type": "code",
   "execution_count": null,
   "metadata": {},
   "outputs": [],
   "source": [
    "# Using the Pandas `concat` function, join the \n",
    "# neighborhood_locations_df and the all_neighborhood_info_df DataFrame\n",
    "# The axis of the concatenation is \"columns\".\n",
    "# The concat function will automatially combine columns with\n",
    "# identical information, while keeping the additional columns.\n",
    "all_neighborhoods_df = pd.concat(\n",
    "    [neighborhood_locations_df, all_neighborhood_info_df], \n",
    "    axis=\"columns\",\n",
    "    sort=False\n",
    ")\n",
    "\n",
    "# Review the resulting DataFrame\n",
    "display(all_neighborhoods_df.head())\n",
    "display(all_neighborhoods_df.tail())\n"
   ]
  },
  {
   "cell_type": "code",
   "execution_count": null,
   "metadata": {},
   "outputs": [],
   "source": [
    "# Call the dropna function to remove any neighborhoods that do not have data\n",
    "all_neighborhoods_df = all_neighborhoods_df.reset_index().dropna()\n",
    "\n",
    "# Rename the \"index\" column as \"Neighborhood\" for use in the Visualization\n",
    "all_neighborhoods_df = all_neighborhoods_df.rename(columns={\"index\": \"Neighborhood\"})\n",
    "\n",
    "# Review the resulting DataFrame\n",
    "display(all_neighborhoods_df.head())\n",
    "display(all_neighborhoods_df.tail())"
   ]
  },
  {
   "cell_type": "markdown",
   "metadata": {},
   "source": [
    "### Step 4: Using hvPlot with GeoViews enabled, create a `points` plot for the `all_neighborhoods_df` DataFrame. Be sure to do the following:\n",
    "\n",
    "* Set the `geo` parameter to True.\n",
    "* Set the `size` parameter to “sale_price_sqr_foot”.\n",
    "* Set the `color` parameter to “gross_rent”.\n",
    "* Set the `frame_width` parameter to 700.\n",
    "* Set the `frame_height` parameter to 500.\n",
    "* Include a descriptive title."
   ]
  },
  {
   "cell_type": "code",
   "execution_count": null,
   "metadata": {},
   "outputs": [],
   "source": [
    "# Create a plot to analyze neighborhood info\n",
    "# YOUR CODE HERE"
   ]
  },
  {
   "cell_type": "markdown",
   "metadata": {},
   "source": [
    "### Step 5: Use the interactive map to answer the following question:"
   ]
  },
  {
   "cell_type": "markdown",
   "metadata": {},
   "source": [
    "**Question:** Which neighborhood has the highest gross rent, and which has the highest sale price per square foot?\n",
    "\n",
    "**Answer:** # YOUR ANSWER HERE"
   ]
  },
  {
   "cell_type": "markdown",
   "metadata": {},
   "source": [
    "## Compose Your Data Story\n",
    "\n",
    "Based on the visualizations that you have created, compose a data story that synthesizes your analysis by answering the following questions:"
   ]
  },
  {
   "cell_type": "markdown",
   "metadata": {},
   "source": [
    "**Question:**  How does the trend in rental income growth compare to the trend in sales prices? Does this same trend hold true for all the neighborhoods across San Francisco?\n",
    "\n",
    "**Answer:** # YOUR ANSWER HERE"
   ]
  },
  {
   "cell_type": "markdown",
   "metadata": {},
   "source": [
    "**Question:** What insights can you share with your company about the potential one-click, buy-and-rent strategy that they're pursuing? Do neighborhoods exist that you would suggest for investment, and why?\n",
    "\n",
    "**Answer:** # YOUR ANSWER HERE"
   ]
  },
  {
   "cell_type": "code",
   "execution_count": null,
   "metadata": {},
   "outputs": [],
   "source": []
  }
 ],
 "metadata": {
  "file_extension": ".py",
  "kernelspec": {
   "display_name": "Python 3.9.12 ('dev')",
   "language": "python",
   "name": "python3"
  },
  "language_info": {
   "codemirror_mode": {
    "name": "ipython",
    "version": 3
   },
   "file_extension": ".py",
   "mimetype": "text/x-python",
   "name": "python",
   "nbconvert_exporter": "python",
   "pygments_lexer": "ipython3",
   "version": "3.9.12"
  },
  "mimetype": "text/x-python",
  "name": "python",
  "npconvert_exporter": "python",
  "pygments_lexer": "ipython3",
  "version": 3,
  "vscode": {
   "interpreter": {
    "hash": "b2ec66fa3d085a6e66869b1a678e052484c09c72639639e5b92cf1e8e9fcc898"
   }
  }
 },
 "nbformat": 4,
 "nbformat_minor": 4
}
